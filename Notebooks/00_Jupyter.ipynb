{
 "cells": [
  {
   "metadata": {},
   "cell_type": "markdown",
   "source": [
    "# Anaconda Python\n",
    "https://www.anaconda.com/download\n",
    "\n",
    "https://anaconda.com/app/code-in-the-cloud\n",
    "\n",
    "https://www.anaconda.com/docs/main\n",
    "\n",
    "https://www.anaconda.com/docs/tools/anaconda-org/user-guide/main\n",
    "\n",
    "https://docs.conda.io/en/latest/\n"
   ],
   "id": "e49bf62fcddb974d"
  },
  {
   "metadata": {},
   "cell_type": "markdown",
   "source": [
    "# CoLab\n",
    "https://colab.research.google.com/\n",
    "\n",
    "Remote Development, no need to install software or libraries locally\n",
    "\n",
    "free access to GPUs"
   ],
   "id": "5fc6956b06639e1"
  },
  {
   "metadata": {},
   "cell_type": "markdown",
   "source": [
    "# Project Jupyter\n",
    "https://jupyter.org/try\n",
    "\n",
    "https://docs.jupyter.org/en/latest/\n",
    "\n",
    "## Jupyter Notebook\n",
    "https://jupyter-notebook.readthedocs.io/en/latest/\n",
    "\n",
    "http://localhost:8888\n",
    "\n",
    "http://127.0.0.1:8888\n",
    "\n",
    "### JupyterLab\n",
    "https://jupyterlab.readthedocs.io/en/stable/\n",
    "\n",
    "### JupyterLab Desktop\n",
    "https://github.com/jupyterlab/jupyterlab-desktop\n",
    "\n",
    "### Kernels\n",
    "https://github.com/jupyter/jupyter/wiki/Jupyter-kernels\n",
    "\n",
    "https://jupyter-tutorial.readthedocs.io/de/latest/kernels/install.html\n",
    "\n",
    "#### IPython Kernel\n",
    "https://ipython.readthedocs.io/en/stable/\n",
    "\n",
    "#### R Kernel\n",
    "https://irkernel.github.io/\n",
    "\n",
    "#### Julia Kernel\n",
    "https://github.com/JuliaLang/IJulia.jl\n"
   ],
   "id": "e0554caaab6c5871"
  },
  {
   "metadata": {},
   "cell_type": "markdown",
   "source": [
    "Format Cells using\n",
    "\n",
    "# Markdown\n",
    "https://de.wikipedia.org/wiki/Markdown\n",
    "\n",
    "https://en.wikipedia.org/wiki/Markdown\n",
    "\n",
    "https://github.com/adam-p/markdown-here/wiki/markdown-cheatsheet\n",
    "\n",
    "https://docs.github.com/de/get-started/writing-on-github/getting-started-with-writing-and-formatting-on-github/basic-writing-and-formatting-syntax\n",
    "\n",
    "# LaTeX\n",
    "https://www.latex-project.org/\n",
    "\n",
    "https://de.wikipedia.org/wiki/LaTeX\n",
    "\n",
    "https://wiki.ubuntuusers.de/LaTeX/\n",
    "\n",
    "https://de.overleaf.com/gallery/tagged/cheat-sheet\n",
    "\n",
    "Jupyter Notebook uses MathJax to render LaTeX formulas\n",
    "\n",
    "https://www.mathjax.org/\n",
    "\n",
    "Examples:\n",
    "\n",
    "https://jupyterbook.org/en/stable/content/math.html\n",
    "\n",
    "https://sakurachaojun.github.io/PSYO3505/others/latex.html\n",
    "\n",
    "https://www.datacamp.com/cheat-sheet/latex-cheat-sheet\n",
    "\n",
    "https://medium.com/@saadsaeed85/a-primer-in-using-latex-in-jupyter-notebooks-ef23716cd103\n",
    "\n",
    "https://www.underleaf.ai/learn/latex/vectors\n",
    "\n",
    "Math equations"
   ],
   "id": "b9aa62ff3a95d1f"
  },
  {
   "metadata": {},
   "cell_type": "markdown",
   "source": [
    "LaTeX Math equation examples:\n",
    "\n",
    "inline math: $ \\pi $\n",
    "\n",
    "math blocks:\n",
    "$$\n",
    "f(x) = a_1 x^2 + a_2 x + a_3\n",
    "$$\n",
    "\n",
    "$$\n",
    "d = \\sqrt[2]{x^2+y^2}\n",
    "$$\n",
    "\n",
    "$$f(x) = \\sum_{i=0}^{N} \\int_{a}^{b} g(t,i) \\text{d}t \\tag{a}$$\n",
    "\n",
    "$$\n",
    "\\int \\frac{1}{x} dx\n",
    "$$\n",
    "\n",
    "LaTeX-style:\n",
    "\\begin{align}\n",
    "a_{11}& =b_{11}&\n",
    "  a_{12}& =b_{12}\\\\\n",
    "a_{21}& =b_{21}&\n",
    "  a_{22}& =b_{22}+c_{22}\n",
    "\\end{align}\n",
    "\n",
    "Transformation:\n",
    "$$\n",
    "\\vec{v} = \\vec{v_1}[0] * \\hat{\\imath} + \\vec{v_1}[1] * \\hat{\\jmath}\n",
    "$$\n",
    "\n",
    "Matrix:\n",
    "$$\n",
    "\\left [\n",
    "\\begin{matrix}\n",
    "1 & 2 & 3 \\\\\n",
    "4 & 5 & 6 \\\\\n",
    "7 & 8 & 9\n",
    "\\end{matrix}\n",
    "\\right ] \\tag{3-3}\n",
    "$$\n",
    "\n",
    "$$\n",
    "\\begin{bmatrix}\n",
    "1 & 2 & \\cdots & 4 \\\\\n",
    "7 & 6 & \\cdots & 5 \\\\\n",
    "\\vdots & \\vdots & \\ddots & \\vdots \\\\\n",
    "8 & 9 & \\cdots & 10\n",
    "\\end{bmatrix} \\tag{3-8}\n",
    "$$"
   ],
   "id": "cbcf6edf41d208de"
  },
  {
   "metadata": {},
   "cell_type": "markdown",
   "source": "Jupyter has Line Magics and Cell Magics:",
   "id": "6885633a950ef96c"
  },
  {
   "cell_type": "code",
   "id": "initial_id",
   "metadata": {
    "collapsed": true,
    "ExecuteTime": {
     "end_time": "2025-08-28T18:19:30.256271Z",
     "start_time": "2025-08-28T18:19:30.251588Z"
    }
   },
   "source": "%lsmagic",
   "outputs": [
    {
     "data": {
      "text/plain": [
       "Available line magics:\n",
       "%alias  %alias_magic  %autoawait  %autocall  %automagic  %autosave  %bookmark  %cd  %clear  %cls  %code_wrap  %colors  %conda  %config  %connect_info  %copy  %ddir  %debug  %dhist  %dirs  %doctest_mode  %echo  %ed  %edit  %env  %gui  %hist  %history  %killbgscripts  %ldir  %less  %load  %load_ext  %loadpy  %logoff  %logon  %logstart  %logstate  %logstop  %ls  %lsmagic  %macro  %magic  %mamba  %matplotlib  %micromamba  %mkdir  %more  %notebook  %page  %pastebin  %pdb  %pdef  %pdoc  %pfile  %pinfo  %pinfo2  %pip  %popd  %pprint  %precision  %prun  %psearch  %psource  %pushd  %pwd  %pycat  %pylab  %qtconsole  %quickref  %recall  %rehashx  %reload_ext  %ren  %rep  %rerun  %reset  %reset_selective  %rmdir  %run  %save  %sc  %set_env  %store  %sx  %system  %tb  %time  %timeit  %unalias  %unload_ext  %uv  %who  %who_ls  %whos  %xdel  %xmode\n",
       "\n",
       "Available cell magics:\n",
       "%%!  %%HTML  %%SVG  %%bash  %%capture  %%cmd  %%code_wrap  %%debug  %%file  %%html  %%javascript  %%js  %%latex  %%markdown  %%perl  %%prun  %%pypy  %%python  %%python2  %%python3  %%ruby  %%script  %%sh  %%svg  %%sx  %%system  %%time  %%timeit  %%writefile\n",
       "\n",
       "Automagic is ON, % prefix IS NOT needed for line magics."
      ],
      "application/json": {
       "line": {
        "automagic": "AutoMagics",
        "autocall": "AutoMagics",
        "alias_magic": "BasicMagics",
        "lsmagic": "BasicMagics",
        "magic": "BasicMagics",
        "page": "BasicMagics",
        "pprint": "BasicMagics",
        "colors": "BasicMagics",
        "xmode": "BasicMagics",
        "quickref": "BasicMagics",
        "doctest_mode": "BasicMagics",
        "gui": "BasicMagics",
        "precision": "BasicMagics",
        "notebook": "BasicMagics",
        "save": "CodeMagics",
        "pastebin": "CodeMagics",
        "loadpy": "CodeMagics",
        "load": "CodeMagics",
        "edit": "KernelMagics",
        "config": "ConfigMagics",
        "prun": "ExecutionMagics",
        "pdb": "ExecutionMagics",
        "debug": "ExecutionMagics",
        "tb": "ExecutionMagics",
        "run": "ExecutionMagics",
        "timeit": "ExecutionMagics",
        "time": "ExecutionMagics",
        "macro": "ExecutionMagics",
        "code_wrap": "ExecutionMagics",
        "load_ext": "ExtensionMagics",
        "unload_ext": "ExtensionMagics",
        "reload_ext": "ExtensionMagics",
        "history": "HistoryMagics",
        "recall": "HistoryMagics",
        "rerun": "HistoryMagics",
        "logstart": "LoggingMagics",
        "logstop": "LoggingMagics",
        "logoff": "LoggingMagics",
        "logon": "LoggingMagics",
        "logstate": "LoggingMagics",
        "pinfo": "NamespaceMagics",
        "pinfo2": "NamespaceMagics",
        "pdef": "NamespaceMagics",
        "pdoc": "NamespaceMagics",
        "psource": "NamespaceMagics",
        "pfile": "NamespaceMagics",
        "psearch": "NamespaceMagics",
        "who_ls": "NamespaceMagics",
        "who": "NamespaceMagics",
        "whos": "NamespaceMagics",
        "reset": "NamespaceMagics",
        "reset_selective": "NamespaceMagics",
        "xdel": "NamespaceMagics",
        "alias": "OSMagics",
        "unalias": "OSMagics",
        "rehashx": "OSMagics",
        "pwd": "OSMagics",
        "cd": "OSMagics",
        "env": "OSMagics",
        "set_env": "OSMagics",
        "pushd": "OSMagics",
        "popd": "OSMagics",
        "dirs": "OSMagics",
        "dhist": "OSMagics",
        "sc": "OSMagics",
        "sx": "OSMagics",
        "system": "OSMagics",
        "bookmark": "OSMagics",
        "pycat": "OSMagics",
        "pip": "PackagingMagics",
        "conda": "PackagingMagics",
        "mamba": "PackagingMagics",
        "micromamba": "PackagingMagics",
        "uv": "PackagingMagics",
        "matplotlib": "PylabMagics",
        "pylab": "PylabMagics",
        "killbgscripts": "ScriptMagics",
        "autoawait": "AsyncMagics",
        "ed": "Other",
        "hist": "Other",
        "rep": "Other",
        "clear": "KernelMagics",
        "cls": "KernelMagics",
        "less": "KernelMagics",
        "more": "KernelMagics",
        "connect_info": "KernelMagics",
        "qtconsole": "KernelMagics",
        "autosave": "KernelMagics",
        "ls": "Other",
        "ddir": "Other",
        "ldir": "Other",
        "mkdir": "Other",
        "rmdir": "Other",
        "echo": "Other",
        "ren": "Other",
        "copy": "Other",
        "store": "StoreMagics"
       },
       "cell": {
        "js": "DisplayMagics",
        "javascript": "DisplayMagics",
        "latex": "DisplayMagics",
        "svg": "DisplayMagics",
        "html": "DisplayMagics",
        "markdown": "DisplayMagics",
        "prun": "ExecutionMagics",
        "debug": "ExecutionMagics",
        "timeit": "ExecutionMagics",
        "time": "ExecutionMagics",
        "capture": "ExecutionMagics",
        "code_wrap": "ExecutionMagics",
        "sx": "OSMagics",
        "system": "OSMagics",
        "!": "OSMagics",
        "writefile": "OSMagics",
        "script": "ScriptMagics",
        "sh": "Other",
        "bash": "Other",
        "perl": "Other",
        "ruby": "Other",
        "python": "Other",
        "python2": "Other",
        "python3": "Other",
        "pypy": "Other",
        "cmd": "Other",
        "SVG": "Other",
        "HTML": "Other",
        "file": "Other"
       }
      }
     },
     "execution_count": 2,
     "metadata": {},
     "output_type": "execute_result"
    }
   ],
   "execution_count": 2
  },
  {
   "metadata": {},
   "cell_type": "markdown",
   "source": "Quick Reference about IPython:",
   "id": "d8cb8c22bf24d505"
  },
  {
   "metadata": {
    "ExecuteTime": {
     "end_time": "2025-08-28T18:22:31.131521Z",
     "start_time": "2025-08-28T18:22:31.125569Z"
    }
   },
   "cell_type": "code",
   "source": "%quickref",
   "id": "f98a3f4284708963",
   "outputs": [],
   "execution_count": 3
  },
  {
   "metadata": {},
   "cell_type": "markdown",
   "source": [
    "You can use LaTeX formulas inside Markdown Cells:\n",
    "$ \\int \\frac{1}{x} dx $"
   ],
   "id": "31d1200d3440c5ab"
  },
  {
   "metadata": {},
   "cell_type": "markdown",
   "source": "Run Shell commands in a cell:",
   "id": "f38ba80bf4bcc77c"
  },
  {
   "metadata": {
    "ExecuteTime": {
     "end_time": "2025-08-30T22:45:39.535683Z",
     "start_time": "2025-08-30T22:45:39.231134Z"
    }
   },
   "cell_type": "code",
   "source": "!ls",
   "id": "c3de81a08e5777f8",
   "outputs": [
    {
     "name": "stdout",
     "output_type": "stream",
     "text": [
      "0_docs.ipynb\n",
      "1_demo.ipynb\n"
     ]
    }
   ],
   "execution_count": 1
  },
  {
   "metadata": {},
   "cell_type": "markdown",
   "source": "Use pip:",
   "id": "7192b3f83e36e18d"
  },
  {
   "metadata": {
    "ExecuteTime": {
     "end_time": "2025-08-30T22:46:32.378006Z",
     "start_time": "2025-08-30T22:46:31.673567Z"
    }
   },
   "cell_type": "code",
   "source": "%pip --version",
   "id": "451941700bb44b7b",
   "outputs": [
    {
     "name": "stdout",
     "output_type": "stream",
     "text": [
      "pip 24.3.1 from C:\\Users\\thorsten\\AppData\\Roaming\\uv\\python\\cpython-3.13.2-windows-x86_64-none\\Lib\\site-packages\\pip (python 3.13)\n",
      "\n",
      "Note: you may need to restart the kernel to use updated packages.\n"
     ]
    }
   ],
   "execution_count": 2
  },
  {
   "metadata": {
    "ExecuteTime": {
     "end_time": "2025-08-30T22:47:31.128433Z",
     "start_time": "2025-08-30T22:47:31.057441Z"
    }
   },
   "cell_type": "code",
   "source": "!uv pip --help",
   "id": "5b5f49a76b63614f",
   "outputs": [
    {
     "name": "stdout",
     "output_type": "stream",
     "text": [
      "Manage Python packages with a pip-compatible interface\n",
      "\n",
      "\u001B[1m\u001B[32mUsage:\u001B[0m \u001B[1m\u001B[36muv pip\u001B[0m \u001B[36m[OPTIONS]\u001B[0m \u001B[36m<COMMAND>\u001B[0m\n",
      "\n",
      "\u001B[1m\u001B[32mCommands:\u001B[0m\n",
      "  \u001B[1m\u001B[36mcompile\u001B[0m    Compile a `requirements.in` file to a `requirements.txt` or `pylock.toml` file\n",
      "  \u001B[1m\u001B[36msync\u001B[0m       Sync an environment with a `requirements.txt` or `pylock.toml` file\n",
      "  \u001B[1m\u001B[36minstall\u001B[0m    Install packages into an environment\n",
      "  \u001B[1m\u001B[36muninstall\u001B[0m  Uninstall packages from an environment\n",
      "  \u001B[1m\u001B[36mfreeze\u001B[0m     List, in requirements format, packages installed in an environment\n",
      "  \u001B[1m\u001B[36mlist\u001B[0m       List, in tabular format, packages installed in an environment\n",
      "  \u001B[1m\u001B[36mshow\u001B[0m       Show information about one or more installed packages\n",
      "  \u001B[1m\u001B[36mtree\u001B[0m       Display the dependency tree for an environment\n",
      "  \u001B[1m\u001B[36mcheck\u001B[0m      Verify installed packages have compatible dependencies\n",
      "\n",
      "\u001B[1m\u001B[32mCache options:\u001B[0m\n",
      "  \u001B[1m\u001B[36m-n\u001B[0m, \u001B[1m\u001B[36m--no-cache\u001B[0m               Avoid reading from or writing to the cache, instead using a temporary\n",
      "                               directory for the duration of the operation [env: UV_NO_CACHE=]\n",
      "      \u001B[1m\u001B[36m--cache-dir\u001B[0m\u001B[36m \u001B[0m\u001B[36m<CACHE_DIR>\u001B[0m  Path to the cache directory [env: UV_CACHE_DIR=]\n",
      "\n",
      "\u001B[1m\u001B[32mPython options:\u001B[0m\n",
      "      \u001B[1m\u001B[36m--managed-python\u001B[0m       Require use of uv-managed Python versions [env: UV_MANAGED_PYTHON=]\n",
      "      \u001B[1m\u001B[36m--no-managed-python\u001B[0m    Disable use of uv-managed Python versions [env: UV_NO_MANAGED_PYTHON=]\n",
      "      \u001B[1m\u001B[36m--no-python-downloads\u001B[0m  Disable automatic downloads of Python. [env:\n",
      "                             \"UV_PYTHON_DOWNLOADS=never\"]\n",
      "\n",
      "\u001B[1m\u001B[32mGlobal options:\u001B[0m\n",
      "  \u001B[1m\u001B[36m-q\u001B[0m, \u001B[1m\u001B[36m--quiet\u001B[0m\u001B[36m...\u001B[0m\n",
      "          Use quiet output\n",
      "  \u001B[1m\u001B[36m-v\u001B[0m, \u001B[1m\u001B[36m--verbose\u001B[0m\u001B[36m...\u001B[0m\n",
      "          Use verbose output\n",
      "      \u001B[1m\u001B[36m--color\u001B[0m\u001B[36m \u001B[0m\u001B[36m<COLOR_CHOICE>\u001B[0m\n",
      "          Control the use of color in output [possible values: auto, always, never]\n",
      "      \u001B[1m\u001B[36m--native-tls\u001B[0m\n",
      "          Whether to load TLS certificates from the platform's native certificate store [env:\n",
      "          UV_NATIVE_TLS=]\n",
      "      \u001B[1m\u001B[36m--offline\u001B[0m\n",
      "          Disable network access [env: UV_OFFLINE=]\n",
      "      \u001B[1m\u001B[36m--allow-insecure-host\u001B[0m\u001B[36m \u001B[0m\u001B[36m<ALLOW_INSECURE_HOST>\u001B[0m\n",
      "          Allow insecure connections to a host [env: UV_INSECURE_HOST=]\n",
      "      \u001B[1m\u001B[36m--no-progress\u001B[0m\n",
      "          Hide all progress outputs [env: UV_NO_PROGRESS=]\n",
      "      \u001B[1m\u001B[36m--directory\u001B[0m\u001B[36m \u001B[0m\u001B[36m<DIRECTORY>\u001B[0m\n",
      "          Change to the given directory prior to running the command\n",
      "      \u001B[1m\u001B[36m--project\u001B[0m\u001B[36m \u001B[0m\u001B[36m<PROJECT>\u001B[0m\n",
      "          Run the command within the given project directory [env: UV_PROJECT=]\n",
      "      \u001B[1m\u001B[36m--config-file\u001B[0m\u001B[36m \u001B[0m\u001B[36m<CONFIG_FILE>\u001B[0m\n",
      "          The path to a `uv.toml` file to use for configuration [env: UV_CONFIG_FILE=]\n",
      "      \u001B[1m\u001B[36m--no-config\u001B[0m\n",
      "          Avoid discovering configuration files (`pyproject.toml`, `uv.toml`) [env: UV_NO_CONFIG=]\n",
      "  \u001B[1m\u001B[36m-h\u001B[0m, \u001B[1m\u001B[36m--help\u001B[0m\n",
      "          Display the concise help for this command\n",
      "\n",
      "Use `uv help pip` for more details.\n"
     ]
    }
   ],
   "execution_count": 4
  }
 ],
 "metadata": {
  "kernelspec": {
   "display_name": "Python 3",
   "language": "python",
   "name": "python3"
  },
  "language_info": {
   "codemirror_mode": {
    "name": "ipython",
    "version": 2
   },
   "file_extension": ".py",
   "mimetype": "text/x-python",
   "name": "python",
   "nbconvert_exporter": "python",
   "pygments_lexer": "ipython2",
   "version": "2.7.6"
  }
 },
 "nbformat": 4,
 "nbformat_minor": 5
}
