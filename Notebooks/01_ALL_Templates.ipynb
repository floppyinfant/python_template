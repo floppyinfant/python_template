{
 "cells": [
  {
   "metadata": {},
   "cell_type": "markdown",
   "source": "# builtin DataStructures",
   "id": "49109c8d1a0a0acc"
  },
  {
   "metadata": {},
   "cell_type": "code",
   "outputs": [],
   "execution_count": null,
   "source": [
    "# datatypes\n",
    "t_i: int\n",
    "t_f: float\n",
    "t_c: complex = 1 + 2j\n",
    "t_s: str\n",
    "t_b: bool\n",
    "t_y: bytes\n",
    "# bytearray"
   ],
   "id": "c9561eaad51c9edf"
  },
  {
   "metadata": {
    "ExecuteTime": {
     "end_time": "2025-09-01T12:22:14.593559Z",
     "start_time": "2025-09-01T12:22:14.589624Z"
    }
   },
   "cell_type": "code",
   "source": [
    "# datastructures\n",
    "ds_l: list = [1, 2, 3]\n",
    "ds_t: tuple = (1, 2, 3)\n",
    "ds_d: dict = {1: \"hello\", 2: \"world\"}\n",
    "ds_s: set = {1, 2, 3}\n",
    "ds_f: frozenset = frozenset({1, 2, 3})"
   ],
   "id": "82c50e69b5439937",
   "outputs": [],
   "execution_count": 7
  },
  {
   "metadata": {},
   "cell_type": "code",
   "outputs": [],
   "execution_count": null,
   "source": [
    "# collections\n",
    "from collections import deque  # stack, queue, linked list, graph, ..."
   ],
   "id": "336636a0f07d4caa"
  },
  {
   "metadata": {},
   "cell_type": "code",
   "outputs": [],
   "execution_count": null,
   "source": "# iterables (iter, next)",
   "id": "bf8eaaf40580ba3d"
  },
  {
   "metadata": {},
   "cell_type": "code",
   "outputs": [],
   "execution_count": null,
   "source": "# generators (yield, next)",
   "id": "3f76e63d3b33c9cb"
  },
  {
   "metadata": {},
   "cell_type": "code",
   "outputs": [],
   "execution_count": null,
   "source": [
    "from types import NoneType\n",
    "from typing import Any\n",
    "import datetime"
   ],
   "id": "9664426d88b8f9ae"
  },
  {
   "metadata": {},
   "cell_type": "markdown",
   "source": "## Pydantic",
   "id": "67f34501c8b206f8"
  },
  {
   "metadata": {},
   "cell_type": "code",
   "outputs": [],
   "execution_count": null,
   "source": "from pydantic import BaseModel",
   "id": "38b718fa7154a241"
  },
  {
   "metadata": {},
   "cell_type": "markdown",
   "source": "## Dataclass Decorator",
   "id": "a380efb0a1b9190"
  },
  {
   "metadata": {},
   "cell_type": "code",
   "outputs": [],
   "execution_count": null,
   "source": "from dataclasses import dataclass",
   "id": "ed5c666cf989f6ad"
  },
  {
   "metadata": {},
   "cell_type": "markdown",
   "source": "# DataScience Libraries",
   "id": "dddd9fbdb43cbe73"
  },
  {
   "metadata": {},
   "cell_type": "markdown",
   "source": [
    "### Tutorials\n",
    "https://www.w3schools.com/python/numpy/default.asp\n",
    "\n",
    "https://www.datacamp.com/tutorial/python-numpy-tutorial\n",
    "\n",
    "https://www.geeksforgeeks.org/python/numpy-tutorial/\n",
    "\n",
    "https://www.programiz.com/python-programming/numpy\n",
    "\n",
    "### Cheat Sheets\n",
    "https://www.datacamp.com/cheat-sheet\n",
    "\n",
    "https://github.com/FavioVazquez/ds-cheatsheets\n",
    "\n",
    "https://medium.com/@anushka.datascoop/101-data-science-cheat-sheets-ml-dl-scraping-python-r-sql-maths-statistics-ef30b4d786eb"
   ],
   "id": "3d265d75a4097f36"
  },
  {
   "cell_type": "code",
   "id": "initial_id",
   "metadata": {
    "collapsed": true,
    "ExecuteTime": {
     "end_time": "2025-09-01T12:22:23.001010Z",
     "start_time": "2025-09-01T12:22:22.996788Z"
    }
   },
   "source": [
    "import numpy as np\n",
    "import pandas as pd\n",
    "import scipy as sp\n",
    "import sklearn as sk\n",
    "\n",
    "import matplotlib.pyplot as plt\n",
    "import seaborn as sns\n",
    "import bokeh\n",
    "import streamlit as st\n",
    "\n",
    "from numba import jit, njit"
   ],
   "outputs": [],
   "execution_count": 8
  },
  {
   "metadata": {},
   "cell_type": "markdown",
   "source": [
    "### NumPy\n",
    "https://numpy.org/\n",
    "\n",
    "https://numpy.org/doc/stable/\n",
    "\n",
    "https://github.com/numpy/numpy\n"
   ],
   "id": "362fa86a99ab7983"
  },
  {
   "metadata": {
    "ExecuteTime": {
     "end_time": "2025-09-01T12:22:26.706249Z",
     "start_time": "2025-09-01T12:22:26.698543Z"
    }
   },
   "cell_type": "code",
   "source": [
    "import numpy as np\n",
    "\n",
    "# np.info(np.ndarray.dtype)\n",
    "a = np.array([(0,0,0), (0,0,0)], dtype=np.float64)\n",
    "print(\"a: ndim ==\", a.ndim, \", shape ==\", a.shape, \"\\n\", a)\n",
    "b = np.arange(-10, 10, 2)\n",
    "print(\"\\nb:\\n\", b)\n",
    "c = np.random.random((2, 3, 4))\n",
    "print(\"\\nc: ndim ==\", c.ndim, \", shape ==\", c.shape, \"\\n\", c)\n",
    "d = np.empty((2, 3))\n",
    "print(\"\\nd:\\n\", d)"
   ],
   "id": "f46ca9b52bd0f4",
   "outputs": [
    {
     "name": "stdout",
     "output_type": "stream",
     "text": [
      "a: ndim == 2 , shape == (2, 3) \n",
      " [[0. 0. 0.]\n",
      " [0. 0. 0.]]\n",
      "\n",
      "b:\n",
      " [-10  -8  -6  -4  -2   0   2   4   6   8]\n",
      "\n",
      "c: ndim == 3 , shape == (2, 3, 4) \n",
      " [[[0.52770652 0.48141119 0.19037356 0.34899464]\n",
      "  [0.81194531 0.80745117 0.00536724 0.75874139]\n",
      "  [0.34982088 0.65330272 0.42083324 0.60575772]]\n",
      "\n",
      " [[0.32007537 0.58109708 0.9136067  0.15942395]\n",
      "  [0.57939523 0.3853121  0.34696393 0.78623386]\n",
      "  [0.13846176 0.31408333 0.1005478  0.3204584 ]]]\n",
      "\n",
      "d:\n",
      " [[0. 0. 0.]\n",
      " [0. 0. 0.]]\n"
     ]
    }
   ],
   "execution_count": 9
  },
  {
   "metadata": {
    "ExecuteTime": {
     "end_time": "2025-09-01T12:25:04.161462Z",
     "start_time": "2025-09-01T12:25:04.156892Z"
    }
   },
   "cell_type": "code",
   "source": [
    "# Slicing\n",
    "print(b[1:6])\n",
    "print(b[1:2])"
   ],
   "id": "7ebdd65a3b794543",
   "outputs": [
    {
     "name": "stdout",
     "output_type": "stream",
     "text": [
      "[-8 -6 -4 -2  0]\n",
      "[-8]\n"
     ]
    }
   ],
   "execution_count": 20
  },
  {
   "metadata": {},
   "cell_type": "markdown",
   "source": [
    "### Pandas\n",
    "https://pandas.pydata.org/\n",
    "\n",
    "https://pandas.pydata.org/docs/\n",
    "\n",
    "https://github.com/pandas-dev/pandas\n"
   ],
   "id": "e68981bf291bd6e0"
  },
  {
   "metadata": {
    "ExecuteTime": {
     "end_time": "2025-08-30T23:31:19.377043Z",
     "start_time": "2025-08-30T23:31:19.339752Z"
    }
   },
   "cell_type": "code",
   "source": [
    "import pandas as pd\n",
    "\n",
    "df = pd.DataFrame(np.random.randn(10, 5))\n",
    "print(df)"
   ],
   "id": "ccb79ee9b8e9450d",
   "outputs": [
    {
     "name": "stdout",
     "output_type": "stream",
     "text": [
      "          0         1         2         3         4\n",
      "0  1.410581 -1.037159 -1.853718  0.715868 -0.405762\n",
      "1 -1.665053 -0.481656  0.304795  0.250721 -1.322102\n",
      "2 -0.108459  1.887141  0.848961  1.535551 -0.234678\n",
      "3 -1.726009 -1.233100  1.151782 -1.342627 -1.588329\n",
      "4  0.379697 -0.711046 -0.135794  0.131507  0.611900\n",
      "5 -2.450640 -0.072400  0.972099  0.474693  0.155217\n",
      "6  0.420618  2.346637  0.453986  0.677277  0.570319\n",
      "7 -0.965587  0.645738  0.463777 -0.114215  0.019365\n",
      "8  0.199079 -0.810680 -0.732313 -0.092759 -0.837703\n",
      "9 -1.853709  0.364416 -0.088943  1.586267 -0.147744\n"
     ]
    }
   ],
   "execution_count": 13
  },
  {
   "metadata": {},
   "cell_type": "markdown",
   "source": [
    "### Matplotlib\n",
    "https://matplotlib.org/\n",
    "\n",
    "https://github.com/matplotlib/matplotlib\n",
    "\n",
    "### Seaborn\n",
    "https://seaborn.pydata.org/\n",
    "\n",
    "### Bokeh\n",
    "https://bokeh.org/\n",
    "\n",
    "https://github.com/bokeh/bokeh\n",
    "\n",
    "### Plotly\n",
    "https://plotly.com/python/\n",
    "\n",
    "https://github.com/plotly/plotly.py\n"
   ],
   "id": "7c230e676ca80156"
  },
  {
   "metadata": {},
   "cell_type": "code",
   "outputs": [],
   "execution_count": null,
   "source": "",
   "id": "ae71a2c1a51da3f"
  },
  {
   "metadata": {},
   "cell_type": "markdown",
   "source": [
    "### StreamLit\n",
    "https://streamlit.io/\n",
    "\n",
    "https://docs.streamlit.io/\n",
    "\n",
    "https://blog.streamlit.io/\n",
    "\n",
    "https://github.com/streamlit/streamlit\n",
    "\n",
    "```bash\n",
    "streamlit hello\n",
    "```\n",
    "runs a Web App from the Terminal; access in Browser http://localhost:8501/\n",
    "\n",
    "#### Streamlit in Jupyter\n",
    "https://discuss.streamlit.io/t/new-library-streamlit-jupyter-a-new-way-to-develop-streamlit-apps-in-jupyter-notebooks/35679\n",
    "\n",
    "https://docs.kanaries.net/topics/Streamlit/streamlit-jupyterlab\n"
   ],
   "id": "4b04e58fe13eb998"
  },
  {
   "metadata": {
    "ExecuteTime": {
     "end_time": "2025-09-04T09:02:35.729296Z",
     "start_time": "2025-09-04T09:02:34.095259Z"
    }
   },
   "cell_type": "code",
   "source": [
    "import streamlit as st\n",
    "# must be run from Terminal\n",
    "\n",
    "st.write(\"\"\"\n",
    "# Welcome to *Streamlit*\n",
    "Hello, World!\n",
    "\"\"\")"
   ],
   "id": "d25443d7240ca697",
   "outputs": [
    {
     "name": "stderr",
     "output_type": "stream",
     "text": [
      "2025-09-04 11:02:35.114 WARNING streamlit.runtime.scriptrunner_utils.script_run_context: Thread 'MainThread': missing ScriptRunContext! This warning can be ignored when running in bare mode.\n",
      "2025-09-04 11:02:35.725 \n",
      "  \u001B[33m\u001B[1mWarning:\u001B[0m to view this Streamlit app on a browser, run it with the following\n",
      "  command:\n",
      "\n",
      "    streamlit run L:\\WORKSPACES\\PYTHON_WS\\python_template\\.venv\\Lib\\site-packages\\ipykernel_launcher.py [ARGUMENTS]\n",
      "2025-09-04 11:02:35.726 Thread 'MainThread': missing ScriptRunContext! This warning can be ignored when running in bare mode.\n",
      "2025-09-04 11:02:35.726 Thread 'MainThread': missing ScriptRunContext! This warning can be ignored when running in bare mode.\n"
     ]
    }
   ],
   "execution_count": 1
  },
  {
   "metadata": {},
   "cell_type": "markdown",
   "source": [
    "### SciPy\n",
    "https://scipy.org/\n",
    "\n",
    "https://docs.scipy.org/doc/scipy/\n",
    "\n",
    "https://github.com/scipy/scipy\n"
   ],
   "id": "a95d96a13bb8bdb5"
  },
  {
   "metadata": {
    "ExecuteTime": {
     "end_time": "2025-08-30T23:22:46.583513Z",
     "start_time": "2025-08-30T23:22:46.579183Z"
    }
   },
   "cell_type": "code",
   "outputs": [
    {
     "name": "stdout",
     "output_type": "stream",
     "text": [
      "3.141592653589793\n",
      "['Avogadro', 'Boltzmann', 'Btu', 'Btu_IT', 'Btu_th', 'ConstantWarning', 'G', 'Julian_year', 'N_A', 'Planck', 'R', 'Rydberg', 'Stefan_Boltzmann', 'Wien', '__all__', '__builtins__', '__cached__', '__doc__', '__file__', '__loader__', '__name__', '__package__', '__path__', '__spec__', '_codata', '_constants', '_obsolete_constants', 'acre', 'alpha', 'angstrom', 'arcmin', 'arcminute', 'arcsec', 'arcsecond', 'astronomical_unit', 'atm', 'atmosphere', 'atomic_mass', 'atto', 'au', 'bar', 'barrel', 'bbl', 'blob', 'c', 'calorie', 'calorie_IT', 'calorie_th', 'carat', 'centi', 'codata', 'constants', 'convert_temperature', 'day', 'deci', 'degree', 'degree_Fahrenheit', 'deka', 'dyn', 'dyne', 'e', 'eV', 'electron_mass', 'electron_volt', 'elementary_charge', 'epsilon_0', 'erg', 'exa', 'exbi', 'femto', 'fermi', 'find', 'fine_structure', 'fluid_ounce', 'fluid_ounce_US', 'fluid_ounce_imp', 'foot', 'g', 'gallon', 'gallon_US', 'gallon_imp', 'gas_constant', 'gibi', 'giga', 'golden', 'golden_ratio', 'grain', 'gram', 'gravitational_constant', 'h', 'hbar', 'hectare', 'hecto', 'horsepower', 'hour', 'hp', 'inch', 'k', 'kgf', 'kibi', 'kilo', 'kilogram_force', 'kmh', 'knot', 'lambda2nu', 'lb', 'lbf', 'light_year', 'liter', 'litre', 'long_ton', 'm_e', 'm_n', 'm_p', 'm_u', 'mach', 'mebi', 'mega', 'metric_ton', 'micro', 'micron', 'mil', 'mile', 'milli', 'minute', 'mmHg', 'mph', 'mu_0', 'nano', 'nautical_mile', 'neutron_mass', 'nu2lambda', 'ounce', 'oz', 'parsec', 'pebi', 'peta', 'physical_constants', 'pi', 'pico', 'point', 'pound', 'pound_force', 'precision', 'proton_mass', 'psi', 'pt', 'quecto', 'quetta', 'ronna', 'ronto', 'short_ton', 'sigma', 'slinch', 'slug', 'speed_of_light', 'speed_of_sound', 'stone', 'survey_foot', 'survey_mile', 'tebi', 'tera', 'test', 'ton_TNT', 'torr', 'troy_ounce', 'troy_pound', 'u', 'unit', 'value', 'week', 'yard', 'year', 'yobi', 'yocto', 'yotta', 'zebi', 'zepto', 'zero_Celsius', 'zetta']\n",
      "<module 'scipy.constants.constants' from 'L:\\\\WORKSPACES\\\\PYTHON_WS\\\\python_template\\\\.venv\\\\Lib\\\\site-packages\\\\scipy\\\\constants\\\\constants.py'>\n"
     ]
    }
   ],
   "execution_count": 12,
   "source": [
    "import scipy as sp\n",
    "\n",
    "print(sp.constants.pi)\n",
    "print(dir(sp.constants))"
   ],
   "id": "a307743da3e643d3"
  },
  {
   "metadata": {},
   "cell_type": "markdown",
   "source": [
    "### Numba\n",
    "https://numba.pydata.org/\n",
    "\n",
    "https://github.com/numba/numba\n"
   ],
   "id": "93246aea47403f2"
  },
  {
   "metadata": {},
   "cell_type": "markdown",
   "source": "# Machine Learning",
   "id": "b8859c7dd87182db"
  },
  {
   "metadata": {},
   "cell_type": "markdown",
   "source": [
    "### Scikit-Learn\n",
    "https://scikit-learn.org/stable/\n",
    "\n",
    "https://github.com/scikit-learn/scikit-learn\n",
    "\n",
    "### Scikit-Image\n",
    "https://github.com/scikit-image/scikit-image\n"
   ],
   "id": "a2caa3914fb66f8c"
  },
  {
   "metadata": {
    "ExecuteTime": {
     "end_time": "2025-09-10T18:30:50.983219Z",
     "start_time": "2025-09-10T18:30:50.974925Z"
    }
   },
   "cell_type": "code",
   "source": [
    "import sklearn as sk\n",
    "from sklearn import datasets\n",
    "iris = datasets.load_iris()\n",
    "X = iris.data\n",
    "y = iris.target\n",
    "print(X[0])\n",
    "print(y[0])  # classified class"
   ],
   "id": "2b5b18625a539d9e",
   "outputs": [
    {
     "name": "stdout",
     "output_type": "stream",
     "text": [
      "[5.1 3.5 1.4 0.2]\n",
      "[0 0 0 0 0 0 0 0 0 0 0 0 0 0 0 0 0 0 0 0 0 0 0 0 0 0 0 0 0 0 0 0 0 0 0 0 0\n",
      " 0 0 0 0 0 0 0 0 0 0 0 0 0 1 1 1 1 1 1 1 1 1 1 1 1 1 1 1 1 1 1 1 1 1 1 1 1\n",
      " 1 1 1 1 1 1 1 1 1 1 1 1 1 1 1 1 1 1 1 1 1 1 1 1 1 1 2 2 2 2 2 2 2 2 2 2 2\n",
      " 2 2 2 2 2 2 2 2 2 2 2 2 2 2 2 2 2 2 2 2 2 2 2 2 2 2 2 2 2 2 2 2 2 2 2 2 2\n",
      " 2 2]\n"
     ]
    }
   ],
   "execution_count": 8
  },
  {
   "metadata": {},
   "cell_type": "markdown",
   "source": "## DeepLearning",
   "id": "fdc50b7b5bd777f6"
  },
  {
   "metadata": {},
   "cell_type": "markdown",
   "source": [
    "### TensorFlow\n",
    "https://www.tensorflow.org/\n",
    "\n",
    "https://github.com/tensorflow/tensorflow\n"
   ],
   "id": "ec4af7340cf802fd"
  },
  {
   "metadata": {},
   "cell_type": "markdown",
   "source": [
    "### Keras\n",
    "https://keras.io/\n",
    "\n",
    "https://github.com/keras-team/keras\n"
   ],
   "id": "8d52dea5a3ac1c1b"
  },
  {
   "metadata": {},
   "cell_type": "markdown",
   "source": [
    "### PyTorch\n",
    "https://pytorch.org/get-started/locally/\n",
    "\n",
    "https://pytorch.org/get-started/previous-versions/\n",
    "\n",
    "https://github.com/pytorch/pytorch\n",
    "\n",
    "https://github.com/facebookresearch\n"
   ],
   "id": "e5becf6beb3aaba6"
  },
  {
   "metadata": {},
   "cell_type": "markdown",
   "source": [
    "#### Nvidia CUDA-Toolkit\n",
    "https://developer.nvidia.com/cuda-toolkit-archive\n",
    "\n",
    "https://developer.nvidia.com/cuda-12-6-3-download-archive (for GTX 1060 6GB GPU)\n",
    "\n",
    "```bash\n",
    "uv pip install torch torchvision torchaudio --index-url https://download.pytorch.org/whl/cu126\n",
    "```\n",
    "\n",
    "---\n",
    "\n",
    "https://docs.nvidia.com/cuda/\n",
    "\n",
    "https://github.com/NVIDIA\n"
   ],
   "id": "ef026d72d2c6e1bd"
  },
  {
   "metadata": {
    "ExecuteTime": {
     "end_time": "2025-09-10T19:13:35.004396Z",
     "start_time": "2025-09-10T19:13:34.999943Z"
    }
   },
   "cell_type": "code",
   "source": [
    "import torch\n",
    "print(\"CUDA available: \", torch.cuda.is_available())\n",
    "print(\"GPU name:       \", torch.cuda.get_device_name(0))  # sm_61\n",
    "print(\"Torch Version:  \", torch.__version__)\n",
    "print(\"Torch CUDA:     \", torch.version.cuda)\n",
    "print(\"Torch CUDNN:    \", torch.backends.cudnn.version())\n",
    "print(\"Torch Arch List:\", torch.cuda.get_arch_list())"
   ],
   "id": "e0a06b1a52a43f8b",
   "outputs": [
    {
     "name": "stdout",
     "output_type": "stream",
     "text": [
      "CUDA available:  True\n",
      "GPU name:        NVIDIA GeForce GTX 1060 6GB\n",
      "Torch Version:   2.8.0+cu126\n",
      "Torch CUDA:      12.6\n",
      "Torch CUDNN:     91002\n",
      "Torch Arch List: ['sm_61', 'sm_70', 'sm_75', 'sm_80', 'sm_86', 'sm_90']\n"
     ]
    }
   ],
   "execution_count": 12
  },
  {
   "metadata": {
    "ExecuteTime": {
     "end_time": "2025-09-10T19:13:38.114017Z",
     "start_time": "2025-09-10T19:13:38.102816Z"
    }
   },
   "cell_type": "code",
   "source": [
    "import torch\n",
    "\n",
    "# initializing tensors\n",
    "device = \"cuda\" if torch.cuda.is_available() else \"cpu\"\n",
    "t1 = torch.tensor([[1,2,3], [4,5,6]], device=device, requires_grad=True, dtype=torch.float32)\n",
    "t2 = torch.zeros(3, 3, device=device, dtype=torch.float32)\n",
    "# t2 = torch.ones(3, 3, device=device, dtype=torch.float32)\n",
    "# t2 = torch.rand(3, 3, device=device, dtype=torch.float32)\n",
    "# t2 = torch.randn(3, 3, device=device, dtype=torch.float32)\n",
    "# t2 = torch.eye(3, device=device, dtype=torch.float32\n",
    "# t2 = torch.arange(9, device=device, dtype=torch.float32)\n",
    "# t2 = torch.linspace(0, 10, 11, device=device, dtype=torch.float32)\n",
    "\n",
    "# tensor operations\n",
    "t3 = torch.matmul(t1, t2)\n",
    "print(t3)\n",
    "t3.backward(torch.ones_like(t3))\n",
    "print(t1.grad)"
   ],
   "id": "2972dbdf2e998dd5",
   "outputs": [
    {
     "name": "stdout",
     "output_type": "stream",
     "text": [
      "tensor([[0., 0., 0.],\n",
      "        [0., 0., 0.]], device='cuda:0', grad_fn=<MmBackward0>)\n",
      "tensor([[0., 0., 0.],\n",
      "        [0., 0., 0.]], device='cuda:0')\n"
     ]
    }
   ],
   "execution_count": 13
  },
  {
   "metadata": {
    "ExecuteTime": {
     "end_time": "2025-09-10T19:17:08.844429Z",
     "start_time": "2025-09-10T19:17:08.835618Z"
    }
   },
   "cell_type": "code",
   "source": [
    "import numpy as np\n",
    "\n",
    "a1 = np.zeros((3, 3))      # numpy array\n",
    "t1 = torch.from_numpy(a1)  # torch tensor\n",
    "a2 = t1.numpy()            # numpy array\n",
    "\n",
    "print(a2)"
   ],
   "id": "6ef058c72be17929",
   "outputs": [
    {
     "name": "stdout",
     "output_type": "stream",
     "text": [
      "[[0. 0. 0.]\n",
      " [0. 0. 0.]\n",
      " [0. 0. 0.]]\n"
     ]
    }
   ],
   "execution_count": 14
  },
  {
   "metadata": {},
   "cell_type": "markdown",
   "source": [
    "## Computer Vision (CV)\n",
    "\n",
    "### OpenCV\n",
    "https://opencv.org/\n",
    "\n",
    "https://docs.opencv.org/4.x/\n",
    "\n",
    "https://github.com/opencv/opencv\n",
    "\n",
    "### SimpleCV\n",
    "https://simplecv.org/\n",
    "\n",
    "### scikit-image (skimage)\n",
    "https://scikit-image.org/\n",
    "\n",
    "https://github.com/scikit-image/scikit-image\n",
    "\n",
    "### torchvision (PyTorch)\n",
    "https://docs.pytorch.org/vision/stable/index.html\n",
    "\n",
    "### TensorFlow CV\n",
    "https://www.tensorflow.org/tutorials/images\n",
    "\n",
    "### YOLO\n",
    "https://pjreddie.com/darknet/yolo/\n",
    "\n",
    "https://datascientest.com/de/you-only-look-once-yolo-was-ist-das\n",
    "\n",
    "https://en.wikipedia.org/wiki/You_Only_Look_Once\n",
    "\n",
    "### CV with AI\n",
    "https://colab.research.google.com/github/google-gemini/cookbook/blob/main/examples/Spatial_understanding_3d.ipynb\n"
   ],
   "id": "e63afb897864e1c3"
  },
  {
   "metadata": {},
   "cell_type": "markdown",
   "source": [
    "## Physics-Simulation for Robotics\n",
    "https://github.com/NVIDIA-Omniverse/PhysX\n",
    "\n",
    "https://github.com/Genesis-Embodied-AI/Genesis\n"
   ],
   "id": "e015d88345d3955c"
  },
  {
   "metadata": {},
   "cell_type": "markdown",
   "source": [
    "# AI\n",
    "GenAI\n",
    "- LLM\n",
    "  - self-hosted AI\n",
    "  - RAG\n",
    "  - Agents\n",
    "- Diffusers\n"
   ],
   "id": "4065061b7c5b3a83"
  },
  {
   "metadata": {},
   "cell_type": "markdown",
   "source": [
    "### Huggingface Libraries\n",
    "https://huggingface.co/docs\n",
    "\n",
    "- accelerate\n",
    "- transformers\n",
    "- datasets\n",
    "- unsloth\n",
    "- peft (parmeter efficient finetuning)\n",
    "- trl\n",
    "- bitsandbytes"
   ],
   "id": "2540d646ab3c1819"
  },
  {
   "metadata": {},
   "cell_type": "markdown",
   "source": [
    "### Transformers\n",
    "https://huggingface.co/docs/transformers/index\n",
    "\n",
    "https://github.com/huggingface/transformers\n"
   ],
   "id": "5a0d300cb69df1dc"
  },
  {
   "metadata": {},
   "cell_type": "code",
   "outputs": [],
   "execution_count": null,
   "source": "from transformers import pipeline",
   "id": "a01eb73ca5c5cea1"
  },
  {
   "metadata": {},
   "cell_type": "markdown",
   "source": [
    "## Fine-Tuning LLMs\n",
    "https://youtu.be/pTaSDVz0gok"
   ],
   "id": "f69b15c3f08b912"
  },
  {
   "metadata": {
    "ExecuteTime": {
     "end_time": "2025-08-31T00:17:30.894549Z",
     "start_time": "2025-08-31T00:16:50.417922Z"
    }
   },
   "cell_type": "code",
   "source": [
    "from unsloth import FastLanguageModel\n",
    "from datasets import Dataset\n",
    "from trl import SFTTrainer\n",
    "from transformers import TrainingArguments\n",
    "#from google.colab import files\n",
    "\n",
    "#import torch\n",
    "import json\n",
    "import os"
   ],
   "id": "942e51336906b6c3",
   "outputs": [
    {
     "name": "stdout",
     "output_type": "stream",
     "text": [
      "🦥 Unsloth: Will patch your computer to enable 2x faster free finetuning.\n"
     ]
    },
    {
     "name": "stderr",
     "output_type": "stream",
     "text": [
      "L:\\WORKSPACES\\PYTHON_WS\\python_template\\.venv\\Lib\\site-packages\\tqdm\\auto.py:21: TqdmWarning: IProgress not found. Please update jupyter and ipywidgets. See https://ipywidgets.readthedocs.io/en/stable/user_install.html\n",
      "  from .autonotebook import tqdm as notebook_tqdm\n",
      "W0831 02:17:19.472000 13680 .venv\\Lib\\site-packages\\torch\\distributed\\elastic\\multiprocessing\\redirects.py:29] NOTE: Redirects are currently not supported in Windows or MacOs.\n"
     ]
    },
    {
     "ename": "ValueError",
     "evalue": "Your currently installed version of Keras is Keras 3, but this is not yet supported in Transformers. Please install the backwards-compatible tf-keras package with `pip install tf-keras`.",
     "output_type": "error",
     "traceback": [
      "\u001B[31m---------------------------------------------------------------------------\u001B[39m",
      "\u001B[31mModuleNotFoundError\u001B[39m                       Traceback (most recent call last)",
      "\u001B[36mFile \u001B[39m\u001B[32mL:\\WORKSPACES\\PYTHON_WS\\python_template\\.venv\\Lib\\site-packages\\transformers\\activations_tf.py:22\u001B[39m\n\u001B[32m     21\u001B[39m \u001B[38;5;28;01mtry\u001B[39;00m:\n\u001B[32m---> \u001B[39m\u001B[32m22\u001B[39m     \u001B[38;5;28;01mimport\u001B[39;00m\u001B[38;5;250m \u001B[39m\u001B[34;01mtf_keras\u001B[39;00m\u001B[38;5;250m \u001B[39m\u001B[38;5;28;01mas\u001B[39;00m\u001B[38;5;250m \u001B[39m\u001B[34;01mkeras\u001B[39;00m\n\u001B[32m     23\u001B[39m \u001B[38;5;28;01mexcept\u001B[39;00m (\u001B[38;5;167;01mModuleNotFoundError\u001B[39;00m, \u001B[38;5;167;01mImportError\u001B[39;00m):\n",
      "\u001B[31mModuleNotFoundError\u001B[39m: No module named 'tf_keras'",
      "\nDuring handling of the above exception, another exception occurred:\n",
      "\u001B[31mValueError\u001B[39m                                Traceback (most recent call last)",
      "\u001B[36mCell\u001B[39m\u001B[36m \u001B[39m\u001B[32mIn[15]\u001B[39m\u001B[32m, line 1\u001B[39m\n\u001B[32m----> \u001B[39m\u001B[32m1\u001B[39m \u001B[38;5;28;01mfrom\u001B[39;00m\u001B[38;5;250m \u001B[39m\u001B[34;01munsloth\u001B[39;00m\u001B[38;5;250m \u001B[39m\u001B[38;5;28;01mimport\u001B[39;00m FastLanguageModel\n\u001B[32m      2\u001B[39m \u001B[38;5;28;01mfrom\u001B[39;00m\u001B[38;5;250m \u001B[39m\u001B[34;01mdatasets\u001B[39;00m\u001B[38;5;250m \u001B[39m\u001B[38;5;28;01mimport\u001B[39;00m Dataset\n\u001B[32m      3\u001B[39m \u001B[38;5;28;01mfrom\u001B[39;00m\u001B[38;5;250m \u001B[39m\u001B[34;01mtrl\u001B[39;00m\u001B[38;5;250m \u001B[39m\u001B[38;5;28;01mimport\u001B[39;00m SFTTrainer\n",
      "\u001B[36mFile \u001B[39m\u001B[32mL:\\WORKSPACES\\PYTHON_WS\\python_template\\.venv\\Lib\\site-packages\\unsloth\\__init__.py:233\u001B[39m\n\u001B[32m    230\u001B[39m     \u001B[38;5;28;01mraise\u001B[39;00m \u001B[38;5;167;01mImportError\u001B[39;00m(\u001B[33m\"\u001B[39m\u001B[33mUnsloth: Please install unsloth_zoo via `pip install unsloth_zoo`\u001B[39m\u001B[33m\"\u001B[39m)\n\u001B[32m    231\u001B[39m \u001B[38;5;28;01mpass\u001B[39;00m\n\u001B[32m--> \u001B[39m\u001B[32m233\u001B[39m \u001B[38;5;28;01mfrom\u001B[39;00m\u001B[38;5;250m \u001B[39m\u001B[34;01m.\u001B[39;00m\u001B[34;01mmodels\u001B[39;00m\u001B[38;5;250m \u001B[39m\u001B[38;5;28;01mimport\u001B[39;00m *\n\u001B[32m    234\u001B[39m \u001B[38;5;28;01mfrom\u001B[39;00m\u001B[38;5;250m \u001B[39m\u001B[34;01m.\u001B[39;00m\u001B[34;01mmodels\u001B[39;00m\u001B[38;5;250m \u001B[39m\u001B[38;5;28;01mimport\u001B[39;00m __version__\n\u001B[32m    235\u001B[39m \u001B[38;5;28;01mfrom\u001B[39;00m\u001B[38;5;250m \u001B[39m\u001B[34;01m.\u001B[39;00m\u001B[34;01msave\u001B[39;00m\u001B[38;5;250m \u001B[39m\u001B[38;5;28;01mimport\u001B[39;00m *\n",
      "\u001B[36mFile \u001B[39m\u001B[32mL:\\WORKSPACES\\PYTHON_WS\\python_template\\.venv\\Lib\\site-packages\\unsloth\\models\\__init__.py:15\u001B[39m\n\u001B[32m      1\u001B[39m \u001B[38;5;66;03m# Copyright 2023-present Daniel Han-Chen & the Unsloth team. All rights reserved.\u001B[39;00m\n\u001B[32m      2\u001B[39m \u001B[38;5;66;03m#\u001B[39;00m\n\u001B[32m      3\u001B[39m \u001B[38;5;66;03m# Licensed under the Apache License, Version 2.0 (the \"License\");\u001B[39;00m\n\u001B[32m   (...)\u001B[39m\u001B[32m     12\u001B[39m \u001B[38;5;66;03m# See the License for the specific language governing permissions and\u001B[39;00m\n\u001B[32m     13\u001B[39m \u001B[38;5;66;03m# limitations under the License.\u001B[39;00m\n\u001B[32m---> \u001B[39m\u001B[32m15\u001B[39m \u001B[38;5;28;01mfrom\u001B[39;00m\u001B[38;5;250m \u001B[39m\u001B[34;01m.\u001B[39;00m\u001B[34;01mllama\u001B[39;00m\u001B[38;5;250m     \u001B[39m\u001B[38;5;28;01mimport\u001B[39;00m FastLlamaModel\n\u001B[32m     16\u001B[39m \u001B[38;5;28;01mfrom\u001B[39;00m\u001B[38;5;250m \u001B[39m\u001B[34;01m.\u001B[39;00m\u001B[34;01mloader\u001B[39;00m\u001B[38;5;250m    \u001B[39m\u001B[38;5;28;01mimport\u001B[39;00m FastLanguageModel, FastVisionModel, FastTextModel, FastModel\n\u001B[32m     17\u001B[39m \u001B[38;5;28;01mfrom\u001B[39;00m\u001B[38;5;250m \u001B[39m\u001B[34;01m.\u001B[39;00m\u001B[34;01mmistral\u001B[39;00m\u001B[38;5;250m   \u001B[39m\u001B[38;5;28;01mimport\u001B[39;00m FastMistralModel\n",
      "\u001B[36mFile \u001B[39m\u001B[32mL:\\WORKSPACES\\PYTHON_WS\\python_template\\.venv\\Lib\\site-packages\\unsloth\\models\\llama.py:20\u001B[39m\n\u001B[32m     18\u001B[39m \u001B[38;5;28;01mimport\u001B[39;00m\u001B[38;5;250m \u001B[39m\u001B[34;01mfunctools\u001B[39;00m\n\u001B[32m     19\u001B[39m \u001B[38;5;28;01mfrom\u001B[39;00m\u001B[38;5;250m \u001B[39m\u001B[34;01mtyping\u001B[39;00m\u001B[38;5;250m \u001B[39m\u001B[38;5;28;01mimport\u001B[39;00m Any, Dict, Optional, Tuple, List, Union\n\u001B[32m---> \u001B[39m\u001B[32m20\u001B[39m \u001B[38;5;28;01mfrom\u001B[39;00m\u001B[38;5;250m \u001B[39m\u001B[34;01m.\u001B[39;00m\u001B[34;01m_utils\u001B[39;00m\u001B[38;5;250m \u001B[39m\u001B[38;5;28;01mimport\u001B[39;00m *\n\u001B[32m     21\u001B[39m \u001B[38;5;28;01mfrom\u001B[39;00m\u001B[38;5;250m \u001B[39m\u001B[34;01m.\u001B[39;00m\u001B[34;01m_utils\u001B[39;00m\u001B[38;5;250m \u001B[39m\u001B[38;5;28;01mimport\u001B[39;00m patch_unsloth_smart_gradient_checkpointing\n\u001B[32m     22\u001B[39m \u001B[38;5;28;01mfrom\u001B[39;00m\u001B[38;5;250m \u001B[39m\u001B[34;01m.\u001B[39;00m\u001B[34;01m_utils\u001B[39;00m\u001B[38;5;250m \u001B[39m\u001B[38;5;28;01mimport\u001B[39;00m __version__\n",
      "\u001B[36mFile \u001B[39m\u001B[32mL:\\WORKSPACES\\PYTHON_WS\\python_template\\.venv\\Lib\\site-packages\\unsloth\\models\\_utils.py:123\u001B[39m\n\u001B[32m    116\u001B[39m \u001B[38;5;28;01mfrom\u001B[39;00m\u001B[38;5;250m \u001B[39m\u001B[34;01munsloth_zoo\u001B[39;00m\u001B[34;01m.\u001B[39;00m\u001B[34;01mvision_utils\u001B[39;00m\u001B[38;5;250m \u001B[39m\u001B[38;5;28;01mimport\u001B[39;00m (\n\u001B[32m    117\u001B[39m     process_vision_info,\n\u001B[32m    118\u001B[39m )\n\u001B[32m    119\u001B[39m \u001B[38;5;28;01mfrom\u001B[39;00m\u001B[38;5;250m \u001B[39m\u001B[34;01munsloth_zoo\u001B[39;00m\u001B[34;01m.\u001B[39;00m\u001B[34;01mcompiler\u001B[39;00m\u001B[38;5;250m \u001B[39m\u001B[38;5;28;01mimport\u001B[39;00m (\n\u001B[32m    120\u001B[39m     get_transformers_model_type,\n\u001B[32m    121\u001B[39m     unsloth_compile_transformers \u001B[38;5;28;01mas\u001B[39;00m _unsloth_compile_transformers,\n\u001B[32m    122\u001B[39m )\n\u001B[32m--> \u001B[39m\u001B[32m123\u001B[39m \u001B[38;5;28;01mfrom\u001B[39;00m\u001B[38;5;250m \u001B[39m\u001B[34;01munsloth_zoo\u001B[39;00m\u001B[34;01m.\u001B[39;00m\u001B[34;01mtraining_utils\u001B[39;00m\u001B[38;5;250m \u001B[39m\u001B[38;5;28;01mimport\u001B[39;00m (\n\u001B[32m    124\u001B[39m     prepare_model_for_training,\n\u001B[32m    125\u001B[39m )\n\u001B[32m    126\u001B[39m \u001B[38;5;28;01mfrom\u001B[39;00m\u001B[38;5;250m \u001B[39m\u001B[34;01munsloth_zoo\u001B[39;00m\u001B[34;01m.\u001B[39;00m\u001B[34;01mtemporary_patches\u001B[39;00m\u001B[38;5;250m \u001B[39m\u001B[38;5;28;01mimport\u001B[39;00m (\n\u001B[32m    127\u001B[39m     TEMPORARY_PATCHES,\n\u001B[32m    128\u001B[39m )\n\u001B[32m    129\u001B[39m \u001B[38;5;28;01mfor\u001B[39;00m temporary_patch \u001B[38;5;129;01min\u001B[39;00m TEMPORARY_PATCHES:\n",
      "\u001B[36mFile \u001B[39m\u001B[32mL:\\WORKSPACES\\PYTHON_WS\\python_template\\.venv\\Lib\\site-packages\\unsloth_zoo\\training_utils.py:22\u001B[39m\n\u001B[32m     20\u001B[39m \u001B[38;5;28;01mfrom\u001B[39;00m\u001B[38;5;250m \u001B[39m\u001B[34;01mtransformers\u001B[39;00m\u001B[38;5;250m \u001B[39m\u001B[38;5;28;01mimport\u001B[39;00m set_seed \u001B[38;5;28;01mas\u001B[39;00m transformers_set_seed\n\u001B[32m     21\u001B[39m \u001B[38;5;28;01mfrom\u001B[39;00m\u001B[38;5;250m \u001B[39m\u001B[34;01mtransformers\u001B[39;00m\u001B[38;5;250m \u001B[39m\u001B[38;5;28;01mimport\u001B[39;00m get_scheduler \u001B[38;5;28;01mas\u001B[39;00m transformers_get_scheduler\n\u001B[32m---> \u001B[39m\u001B[32m22\u001B[39m \u001B[38;5;28;01mfrom\u001B[39;00m\u001B[38;5;250m \u001B[39m\u001B[34;01mtransformers\u001B[39;00m\u001B[38;5;250m \u001B[39m\u001B[38;5;28;01mimport\u001B[39;00m Trainer\n\u001B[32m     23\u001B[39m \u001B[38;5;28;01mfrom\u001B[39;00m\u001B[38;5;250m \u001B[39m\u001B[34;01mtransformers\u001B[39;00m\u001B[34;01m.\u001B[39;00m\u001B[34;01mtrainer_utils\u001B[39;00m\u001B[38;5;250m \u001B[39m\u001B[38;5;28;01mimport\u001B[39;00m seed_worker \u001B[38;5;28;01mas\u001B[39;00m trainer_utils_seed_worker\n\u001B[32m     24\u001B[39m \u001B[38;5;28;01mfrom\u001B[39;00m\u001B[38;5;250m \u001B[39m\u001B[34;01mtqdm\u001B[39;00m\u001B[38;5;250m \u001B[39m\u001B[38;5;28;01mimport\u001B[39;00m tqdm \u001B[38;5;28;01mas\u001B[39;00m ProgressBar\n",
      "\u001B[36mFile \u001B[39m\u001B[32m<frozen importlib._bootstrap>:1412\u001B[39m, in \u001B[36m_handle_fromlist\u001B[39m\u001B[34m(module, fromlist, import_, recursive)\u001B[39m\n",
      "\u001B[36mFile \u001B[39m\u001B[32mL:\\WORKSPACES\\PYTHON_WS\\python_template\\.venv\\Lib\\site-packages\\transformers\\utils\\import_utils.py:2292\u001B[39m, in \u001B[36m_LazyModule.__getattr__\u001B[39m\u001B[34m(self, name)\u001B[39m\n\u001B[32m   2290\u001B[39m \u001B[38;5;28;01melif\u001B[39;00m name \u001B[38;5;129;01min\u001B[39;00m \u001B[38;5;28mself\u001B[39m._class_to_module:\n\u001B[32m   2291\u001B[39m     \u001B[38;5;28;01mtry\u001B[39;00m:\n\u001B[32m-> \u001B[39m\u001B[32m2292\u001B[39m         module = \u001B[38;5;28;43mself\u001B[39;49m\u001B[43m.\u001B[49m\u001B[43m_get_module\u001B[49m\u001B[43m(\u001B[49m\u001B[38;5;28;43mself\u001B[39;49m\u001B[43m.\u001B[49m\u001B[43m_class_to_module\u001B[49m\u001B[43m[\u001B[49m\u001B[43mname\u001B[49m\u001B[43m]\u001B[49m\u001B[43m)\u001B[49m\n\u001B[32m   2293\u001B[39m         value = \u001B[38;5;28mgetattr\u001B[39m(module, name)\n\u001B[32m   2294\u001B[39m     \u001B[38;5;28;01mexcept\u001B[39;00m (\u001B[38;5;167;01mModuleNotFoundError\u001B[39;00m, \u001B[38;5;167;01mRuntimeError\u001B[39;00m) \u001B[38;5;28;01mas\u001B[39;00m e:\n",
      "\u001B[36mFile \u001B[39m\u001B[32mL:\\WORKSPACES\\PYTHON_WS\\python_template\\.venv\\Lib\\site-packages\\transformers\\utils\\import_utils.py:2322\u001B[39m, in \u001B[36m_LazyModule._get_module\u001B[39m\u001B[34m(self, module_name)\u001B[39m\n\u001B[32m   2320\u001B[39m     \u001B[38;5;28;01mreturn\u001B[39;00m importlib.import_module(\u001B[33m\"\u001B[39m\u001B[33m.\u001B[39m\u001B[33m\"\u001B[39m + module_name, \u001B[38;5;28mself\u001B[39m.\u001B[34m__name__\u001B[39m)\n\u001B[32m   2321\u001B[39m \u001B[38;5;28;01mexcept\u001B[39;00m \u001B[38;5;167;01mException\u001B[39;00m \u001B[38;5;28;01mas\u001B[39;00m e:\n\u001B[32m-> \u001B[39m\u001B[32m2322\u001B[39m     \u001B[38;5;28;01mraise\u001B[39;00m e\n",
      "\u001B[36mFile \u001B[39m\u001B[32mL:\\WORKSPACES\\PYTHON_WS\\python_template\\.venv\\Lib\\site-packages\\transformers\\utils\\import_utils.py:2320\u001B[39m, in \u001B[36m_LazyModule._get_module\u001B[39m\u001B[34m(self, module_name)\u001B[39m\n\u001B[32m   2318\u001B[39m \u001B[38;5;28;01mdef\u001B[39;00m\u001B[38;5;250m \u001B[39m\u001B[34m_get_module\u001B[39m(\u001B[38;5;28mself\u001B[39m, module_name: \u001B[38;5;28mstr\u001B[39m):\n\u001B[32m   2319\u001B[39m     \u001B[38;5;28;01mtry\u001B[39;00m:\n\u001B[32m-> \u001B[39m\u001B[32m2320\u001B[39m         \u001B[38;5;28;01mreturn\u001B[39;00m \u001B[43mimportlib\u001B[49m\u001B[43m.\u001B[49m\u001B[43mimport_module\u001B[49m\u001B[43m(\u001B[49m\u001B[33;43m\"\u001B[39;49m\u001B[33;43m.\u001B[39;49m\u001B[33;43m\"\u001B[39;49m\u001B[43m \u001B[49m\u001B[43m+\u001B[49m\u001B[43m \u001B[49m\u001B[43mmodule_name\u001B[49m\u001B[43m,\u001B[49m\u001B[43m \u001B[49m\u001B[38;5;28;43mself\u001B[39;49m\u001B[43m.\u001B[49m\u001B[34;43m__name__\u001B[39;49m\u001B[43m)\u001B[49m\n\u001B[32m   2321\u001B[39m     \u001B[38;5;28;01mexcept\u001B[39;00m \u001B[38;5;167;01mException\u001B[39;00m \u001B[38;5;28;01mas\u001B[39;00m e:\n\u001B[32m   2322\u001B[39m         \u001B[38;5;28;01mraise\u001B[39;00m e\n",
      "\u001B[36mFile \u001B[39m\u001B[32m~\\AppData\\Roaming\\uv\\python\\cpython-3.13.2-windows-x86_64-none\\Lib\\importlib\\__init__.py:88\u001B[39m, in \u001B[36mimport_module\u001B[39m\u001B[34m(name, package)\u001B[39m\n\u001B[32m     86\u001B[39m             \u001B[38;5;28;01mbreak\u001B[39;00m\n\u001B[32m     87\u001B[39m         level += \u001B[32m1\u001B[39m\n\u001B[32m---> \u001B[39m\u001B[32m88\u001B[39m \u001B[38;5;28;01mreturn\u001B[39;00m \u001B[43m_bootstrap\u001B[49m\u001B[43m.\u001B[49m\u001B[43m_gcd_import\u001B[49m\u001B[43m(\u001B[49m\u001B[43mname\u001B[49m\u001B[43m[\u001B[49m\u001B[43mlevel\u001B[49m\u001B[43m:\u001B[49m\u001B[43m]\u001B[49m\u001B[43m,\u001B[49m\u001B[43m \u001B[49m\u001B[43mpackage\u001B[49m\u001B[43m,\u001B[49m\u001B[43m \u001B[49m\u001B[43mlevel\u001B[49m\u001B[43m)\u001B[49m\n",
      "\u001B[36mFile \u001B[39m\u001B[32mL:\\WORKSPACES\\PYTHON_WS\\python_template\\.venv\\Lib\\site-packages\\transformers\\trainer.py:42\u001B[39m\n\u001B[32m     37\u001B[39m \u001B[38;5;28;01mfrom\u001B[39;00m\u001B[38;5;250m \u001B[39m\u001B[34;01mtyping\u001B[39;00m\u001B[38;5;250m \u001B[39m\u001B[38;5;28;01mimport\u001B[39;00m TYPE_CHECKING, Any, Callable, Optional, Union\n\u001B[32m     40\u001B[39m \u001B[38;5;66;03m# Integrations must be imported before ML frameworks:\u001B[39;00m\n\u001B[32m     41\u001B[39m \u001B[38;5;66;03m# ruff: isort: off\u001B[39;00m\n\u001B[32m---> \u001B[39m\u001B[32m42\u001B[39m \u001B[38;5;28;01mfrom\u001B[39;00m\u001B[38;5;250m \u001B[39m\u001B[34;01m.\u001B[39;00m\u001B[34;01mintegrations\u001B[39;00m\u001B[38;5;250m \u001B[39m\u001B[38;5;28;01mimport\u001B[39;00m (\n\u001B[32m     43\u001B[39m     get_reporting_integration_callbacks,\n\u001B[32m     44\u001B[39m )\n\u001B[32m     46\u001B[39m \u001B[38;5;66;03m# ruff: isort: on\u001B[39;00m\n\u001B[32m     48\u001B[39m \u001B[38;5;28;01mimport\u001B[39;00m\u001B[38;5;250m \u001B[39m\u001B[34;01mhuggingface_hub\u001B[39;00m\u001B[34;01m.\u001B[39;00m\u001B[34;01mutils\u001B[39;00m\u001B[38;5;250m \u001B[39m\u001B[38;5;28;01mas\u001B[39;00m\u001B[38;5;250m \u001B[39m\u001B[34;01mhf_hub_utils\u001B[39;00m\n",
      "\u001B[36mFile \u001B[39m\u001B[32m<frozen importlib._bootstrap>:1412\u001B[39m, in \u001B[36m_handle_fromlist\u001B[39m\u001B[34m(module, fromlist, import_, recursive)\u001B[39m\n",
      "\u001B[36mFile \u001B[39m\u001B[32mL:\\WORKSPACES\\PYTHON_WS\\python_template\\.venv\\Lib\\site-packages\\transformers\\utils\\import_utils.py:2292\u001B[39m, in \u001B[36m_LazyModule.__getattr__\u001B[39m\u001B[34m(self, name)\u001B[39m\n\u001B[32m   2290\u001B[39m \u001B[38;5;28;01melif\u001B[39;00m name \u001B[38;5;129;01min\u001B[39;00m \u001B[38;5;28mself\u001B[39m._class_to_module:\n\u001B[32m   2291\u001B[39m     \u001B[38;5;28;01mtry\u001B[39;00m:\n\u001B[32m-> \u001B[39m\u001B[32m2292\u001B[39m         module = \u001B[38;5;28;43mself\u001B[39;49m\u001B[43m.\u001B[49m\u001B[43m_get_module\u001B[49m\u001B[43m(\u001B[49m\u001B[38;5;28;43mself\u001B[39;49m\u001B[43m.\u001B[49m\u001B[43m_class_to_module\u001B[49m\u001B[43m[\u001B[49m\u001B[43mname\u001B[49m\u001B[43m]\u001B[49m\u001B[43m)\u001B[49m\n\u001B[32m   2293\u001B[39m         value = \u001B[38;5;28mgetattr\u001B[39m(module, name)\n\u001B[32m   2294\u001B[39m     \u001B[38;5;28;01mexcept\u001B[39;00m (\u001B[38;5;167;01mModuleNotFoundError\u001B[39;00m, \u001B[38;5;167;01mRuntimeError\u001B[39;00m) \u001B[38;5;28;01mas\u001B[39;00m e:\n",
      "\u001B[36mFile \u001B[39m\u001B[32mL:\\WORKSPACES\\PYTHON_WS\\python_template\\.venv\\Lib\\site-packages\\transformers\\utils\\import_utils.py:2322\u001B[39m, in \u001B[36m_LazyModule._get_module\u001B[39m\u001B[34m(self, module_name)\u001B[39m\n\u001B[32m   2320\u001B[39m     \u001B[38;5;28;01mreturn\u001B[39;00m importlib.import_module(\u001B[33m\"\u001B[39m\u001B[33m.\u001B[39m\u001B[33m\"\u001B[39m + module_name, \u001B[38;5;28mself\u001B[39m.\u001B[34m__name__\u001B[39m)\n\u001B[32m   2321\u001B[39m \u001B[38;5;28;01mexcept\u001B[39;00m \u001B[38;5;167;01mException\u001B[39;00m \u001B[38;5;28;01mas\u001B[39;00m e:\n\u001B[32m-> \u001B[39m\u001B[32m2322\u001B[39m     \u001B[38;5;28;01mraise\u001B[39;00m e\n",
      "\u001B[36mFile \u001B[39m\u001B[32mL:\\WORKSPACES\\PYTHON_WS\\python_template\\.venv\\Lib\\site-packages\\transformers\\utils\\import_utils.py:2320\u001B[39m, in \u001B[36m_LazyModule._get_module\u001B[39m\u001B[34m(self, module_name)\u001B[39m\n\u001B[32m   2318\u001B[39m \u001B[38;5;28;01mdef\u001B[39;00m\u001B[38;5;250m \u001B[39m\u001B[34m_get_module\u001B[39m(\u001B[38;5;28mself\u001B[39m, module_name: \u001B[38;5;28mstr\u001B[39m):\n\u001B[32m   2319\u001B[39m     \u001B[38;5;28;01mtry\u001B[39;00m:\n\u001B[32m-> \u001B[39m\u001B[32m2320\u001B[39m         \u001B[38;5;28;01mreturn\u001B[39;00m \u001B[43mimportlib\u001B[49m\u001B[43m.\u001B[49m\u001B[43mimport_module\u001B[49m\u001B[43m(\u001B[49m\u001B[33;43m\"\u001B[39;49m\u001B[33;43m.\u001B[39;49m\u001B[33;43m\"\u001B[39;49m\u001B[43m \u001B[49m\u001B[43m+\u001B[49m\u001B[43m \u001B[49m\u001B[43mmodule_name\u001B[49m\u001B[43m,\u001B[49m\u001B[43m \u001B[49m\u001B[38;5;28;43mself\u001B[39;49m\u001B[43m.\u001B[49m\u001B[34;43m__name__\u001B[39;49m\u001B[43m)\u001B[49m\n\u001B[32m   2321\u001B[39m     \u001B[38;5;28;01mexcept\u001B[39;00m \u001B[38;5;167;01mException\u001B[39;00m \u001B[38;5;28;01mas\u001B[39;00m e:\n\u001B[32m   2322\u001B[39m         \u001B[38;5;28;01mraise\u001B[39;00m e\n",
      "\u001B[36mFile \u001B[39m\u001B[32m~\\AppData\\Roaming\\uv\\python\\cpython-3.13.2-windows-x86_64-none\\Lib\\importlib\\__init__.py:88\u001B[39m, in \u001B[36mimport_module\u001B[39m\u001B[34m(name, package)\u001B[39m\n\u001B[32m     86\u001B[39m             \u001B[38;5;28;01mbreak\u001B[39;00m\n\u001B[32m     87\u001B[39m         level += \u001B[32m1\u001B[39m\n\u001B[32m---> \u001B[39m\u001B[32m88\u001B[39m \u001B[38;5;28;01mreturn\u001B[39;00m \u001B[43m_bootstrap\u001B[49m\u001B[43m.\u001B[49m\u001B[43m_gcd_import\u001B[49m\u001B[43m(\u001B[49m\u001B[43mname\u001B[49m\u001B[43m[\u001B[49m\u001B[43mlevel\u001B[49m\u001B[43m:\u001B[49m\u001B[43m]\u001B[49m\u001B[43m,\u001B[49m\u001B[43m \u001B[49m\u001B[43mpackage\u001B[49m\u001B[43m,\u001B[49m\u001B[43m \u001B[49m\u001B[43mlevel\u001B[49m\u001B[43m)\u001B[49m\n",
      "\u001B[36mFile \u001B[39m\u001B[32mL:\\WORKSPACES\\PYTHON_WS\\python_template\\.venv\\Lib\\site-packages\\transformers\\integrations\\integration_utils.py:44\u001B[39m\n\u001B[32m     41\u001B[39m \u001B[38;5;28;01mif\u001B[39;00m os.getenv(\u001B[33m\"\u001B[39m\u001B[33mWANDB_MODE\u001B[39m\u001B[33m\"\u001B[39m) == \u001B[33m\"\u001B[39m\u001B[33moffline\u001B[39m\u001B[33m\"\u001B[39m:\n\u001B[32m     42\u001B[39m     \u001B[38;5;28mprint\u001B[39m(\u001B[33m\"\u001B[39m\u001B[33m⚙️  Running in WANDB offline mode\u001B[39m\u001B[33m\"\u001B[39m)\n\u001B[32m---> \u001B[39m\u001B[32m44\u001B[39m \u001B[38;5;28;01mfrom\u001B[39;00m\u001B[38;5;250m \u001B[39m\u001B[34;01m.\u001B[39;00m\u001B[34;01m.\u001B[39;00m\u001B[38;5;250m \u001B[39m\u001B[38;5;28;01mimport\u001B[39;00m PreTrainedModel, TFPreTrainedModel, TrainingArguments\n\u001B[32m     45\u001B[39m \u001B[38;5;28;01mfrom\u001B[39;00m\u001B[38;5;250m \u001B[39m\u001B[34;01m.\u001B[39;00m\u001B[34;01m.\u001B[39;00m\u001B[38;5;250m \u001B[39m\u001B[38;5;28;01mimport\u001B[39;00m __version__ \u001B[38;5;28;01mas\u001B[39;00m version\n\u001B[32m     46\u001B[39m \u001B[38;5;28;01mfrom\u001B[39;00m\u001B[38;5;250m \u001B[39m\u001B[34;01m.\u001B[39;00m\u001B[34;01m.\u001B[39;00m\u001B[34;01mutils\u001B[39;00m\u001B[38;5;250m \u001B[39m\u001B[38;5;28;01mimport\u001B[39;00m (\n\u001B[32m     47\u001B[39m     PushToHubMixin,\n\u001B[32m     48\u001B[39m     flatten_dict,\n\u001B[32m   (...)\u001B[39m\u001B[32m     53\u001B[39m     logging,\n\u001B[32m     54\u001B[39m )\n",
      "\u001B[36mFile \u001B[39m\u001B[32m<frozen importlib._bootstrap>:1412\u001B[39m, in \u001B[36m_handle_fromlist\u001B[39m\u001B[34m(module, fromlist, import_, recursive)\u001B[39m\n",
      "\u001B[36mFile \u001B[39m\u001B[32mL:\\WORKSPACES\\PYTHON_WS\\python_template\\.venv\\Lib\\site-packages\\transformers\\utils\\import_utils.py:2292\u001B[39m, in \u001B[36m_LazyModule.__getattr__\u001B[39m\u001B[34m(self, name)\u001B[39m\n\u001B[32m   2290\u001B[39m \u001B[38;5;28;01melif\u001B[39;00m name \u001B[38;5;129;01min\u001B[39;00m \u001B[38;5;28mself\u001B[39m._class_to_module:\n\u001B[32m   2291\u001B[39m     \u001B[38;5;28;01mtry\u001B[39;00m:\n\u001B[32m-> \u001B[39m\u001B[32m2292\u001B[39m         module = \u001B[38;5;28;43mself\u001B[39;49m\u001B[43m.\u001B[49m\u001B[43m_get_module\u001B[49m\u001B[43m(\u001B[49m\u001B[38;5;28;43mself\u001B[39;49m\u001B[43m.\u001B[49m\u001B[43m_class_to_module\u001B[49m\u001B[43m[\u001B[49m\u001B[43mname\u001B[49m\u001B[43m]\u001B[49m\u001B[43m)\u001B[49m\n\u001B[32m   2293\u001B[39m         value = \u001B[38;5;28mgetattr\u001B[39m(module, name)\n\u001B[32m   2294\u001B[39m     \u001B[38;5;28;01mexcept\u001B[39;00m (\u001B[38;5;167;01mModuleNotFoundError\u001B[39;00m, \u001B[38;5;167;01mRuntimeError\u001B[39;00m) \u001B[38;5;28;01mas\u001B[39;00m e:\n",
      "\u001B[36mFile \u001B[39m\u001B[32mL:\\WORKSPACES\\PYTHON_WS\\python_template\\.venv\\Lib\\site-packages\\transformers\\utils\\import_utils.py:2322\u001B[39m, in \u001B[36m_LazyModule._get_module\u001B[39m\u001B[34m(self, module_name)\u001B[39m\n\u001B[32m   2320\u001B[39m     \u001B[38;5;28;01mreturn\u001B[39;00m importlib.import_module(\u001B[33m\"\u001B[39m\u001B[33m.\u001B[39m\u001B[33m\"\u001B[39m + module_name, \u001B[38;5;28mself\u001B[39m.\u001B[34m__name__\u001B[39m)\n\u001B[32m   2321\u001B[39m \u001B[38;5;28;01mexcept\u001B[39;00m \u001B[38;5;167;01mException\u001B[39;00m \u001B[38;5;28;01mas\u001B[39;00m e:\n\u001B[32m-> \u001B[39m\u001B[32m2322\u001B[39m     \u001B[38;5;28;01mraise\u001B[39;00m e\n",
      "\u001B[36mFile \u001B[39m\u001B[32mL:\\WORKSPACES\\PYTHON_WS\\python_template\\.venv\\Lib\\site-packages\\transformers\\utils\\import_utils.py:2320\u001B[39m, in \u001B[36m_LazyModule._get_module\u001B[39m\u001B[34m(self, module_name)\u001B[39m\n\u001B[32m   2318\u001B[39m \u001B[38;5;28;01mdef\u001B[39;00m\u001B[38;5;250m \u001B[39m\u001B[34m_get_module\u001B[39m(\u001B[38;5;28mself\u001B[39m, module_name: \u001B[38;5;28mstr\u001B[39m):\n\u001B[32m   2319\u001B[39m     \u001B[38;5;28;01mtry\u001B[39;00m:\n\u001B[32m-> \u001B[39m\u001B[32m2320\u001B[39m         \u001B[38;5;28;01mreturn\u001B[39;00m \u001B[43mimportlib\u001B[49m\u001B[43m.\u001B[49m\u001B[43mimport_module\u001B[49m\u001B[43m(\u001B[49m\u001B[33;43m\"\u001B[39;49m\u001B[33;43m.\u001B[39;49m\u001B[33;43m\"\u001B[39;49m\u001B[43m \u001B[49m\u001B[43m+\u001B[49m\u001B[43m \u001B[49m\u001B[43mmodule_name\u001B[49m\u001B[43m,\u001B[49m\u001B[43m \u001B[49m\u001B[38;5;28;43mself\u001B[39;49m\u001B[43m.\u001B[49m\u001B[34;43m__name__\u001B[39;49m\u001B[43m)\u001B[49m\n\u001B[32m   2321\u001B[39m     \u001B[38;5;28;01mexcept\u001B[39;00m \u001B[38;5;167;01mException\u001B[39;00m \u001B[38;5;28;01mas\u001B[39;00m e:\n\u001B[32m   2322\u001B[39m         \u001B[38;5;28;01mraise\u001B[39;00m e\n",
      "\u001B[36mFile \u001B[39m\u001B[32m~\\AppData\\Roaming\\uv\\python\\cpython-3.13.2-windows-x86_64-none\\Lib\\importlib\\__init__.py:88\u001B[39m, in \u001B[36mimport_module\u001B[39m\u001B[34m(name, package)\u001B[39m\n\u001B[32m     86\u001B[39m             \u001B[38;5;28;01mbreak\u001B[39;00m\n\u001B[32m     87\u001B[39m         level += \u001B[32m1\u001B[39m\n\u001B[32m---> \u001B[39m\u001B[32m88\u001B[39m \u001B[38;5;28;01mreturn\u001B[39;00m \u001B[43m_bootstrap\u001B[49m\u001B[43m.\u001B[49m\u001B[43m_gcd_import\u001B[49m\u001B[43m(\u001B[49m\u001B[43mname\u001B[49m\u001B[43m[\u001B[49m\u001B[43mlevel\u001B[49m\u001B[43m:\u001B[49m\u001B[43m]\u001B[49m\u001B[43m,\u001B[49m\u001B[43m \u001B[49m\u001B[43mpackage\u001B[49m\u001B[43m,\u001B[49m\u001B[43m \u001B[49m\u001B[43mlevel\u001B[49m\u001B[43m)\u001B[49m\n",
      "\u001B[36mFile \u001B[39m\u001B[32mL:\\WORKSPACES\\PYTHON_WS\\python_template\\.venv\\Lib\\site-packages\\transformers\\modeling_tf_utils.py:38\u001B[39m\n\u001B[32m     35\u001B[39m \u001B[38;5;28;01mfrom\u001B[39;00m\u001B[38;5;250m \u001B[39m\u001B[34;01mpackaging\u001B[39;00m\u001B[34;01m.\u001B[39;00m\u001B[34;01mversion\u001B[39;00m\u001B[38;5;250m \u001B[39m\u001B[38;5;28;01mimport\u001B[39;00m parse\n\u001B[32m     37\u001B[39m \u001B[38;5;28;01mfrom\u001B[39;00m\u001B[38;5;250m \u001B[39m\u001B[34;01m.\u001B[39;00m\u001B[38;5;250m \u001B[39m\u001B[38;5;28;01mimport\u001B[39;00m DataCollatorWithPadding, DefaultDataCollator\n\u001B[32m---> \u001B[39m\u001B[32m38\u001B[39m \u001B[38;5;28;01mfrom\u001B[39;00m\u001B[38;5;250m \u001B[39m\u001B[34;01m.\u001B[39;00m\u001B[34;01mactivations_tf\u001B[39;00m\u001B[38;5;250m \u001B[39m\u001B[38;5;28;01mimport\u001B[39;00m get_tf_activation\n\u001B[32m     39\u001B[39m \u001B[38;5;28;01mfrom\u001B[39;00m\u001B[38;5;250m \u001B[39m\u001B[34;01m.\u001B[39;00m\u001B[34;01mconfiguration_utils\u001B[39;00m\u001B[38;5;250m \u001B[39m\u001B[38;5;28;01mimport\u001B[39;00m PretrainedConfig\n\u001B[32m     40\u001B[39m \u001B[38;5;28;01mfrom\u001B[39;00m\u001B[38;5;250m \u001B[39m\u001B[34;01m.\u001B[39;00m\u001B[34;01mdynamic_module_utils\u001B[39;00m\u001B[38;5;250m \u001B[39m\u001B[38;5;28;01mimport\u001B[39;00m custom_object_save\n",
      "\u001B[36mFile \u001B[39m\u001B[32mL:\\WORKSPACES\\PYTHON_WS\\python_template\\.venv\\Lib\\site-packages\\transformers\\activations_tf.py:27\u001B[39m\n\u001B[32m     24\u001B[39m     \u001B[38;5;28;01mimport\u001B[39;00m\u001B[38;5;250m \u001B[39m\u001B[34;01mkeras\u001B[39;00m\n\u001B[32m     26\u001B[39m     \u001B[38;5;28;01mif\u001B[39;00m parse(keras.__version__).major > \u001B[32m2\u001B[39m:\n\u001B[32m---> \u001B[39m\u001B[32m27\u001B[39m         \u001B[38;5;28;01mraise\u001B[39;00m \u001B[38;5;167;01mValueError\u001B[39;00m(\n\u001B[32m     28\u001B[39m             \u001B[33m\"\u001B[39m\u001B[33mYour currently installed version of Keras is Keras 3, but this is not yet supported in \u001B[39m\u001B[33m\"\u001B[39m\n\u001B[32m     29\u001B[39m             \u001B[33m\"\u001B[39m\u001B[33mTransformers. Please install the backwards-compatible tf-keras package with \u001B[39m\u001B[33m\"\u001B[39m\n\u001B[32m     30\u001B[39m             \u001B[33m\"\u001B[39m\u001B[33m`pip install tf-keras`.\u001B[39m\u001B[33m\"\u001B[39m\n\u001B[32m     31\u001B[39m         )\n\u001B[32m     34\u001B[39m \u001B[38;5;28;01mdef\u001B[39;00m\u001B[38;5;250m \u001B[39m\u001B[34m_gelu\u001B[39m(x):\n\u001B[32m     35\u001B[39m \u001B[38;5;250m    \u001B[39m\u001B[33;03m\"\"\"\u001B[39;00m\n\u001B[32m     36\u001B[39m \u001B[33;03m    Gaussian Error Linear Unit. Original Implementation of the gelu activation function in Google Bert repo when\u001B[39;00m\n\u001B[32m     37\u001B[39m \u001B[33;03m    initially created. For information: OpenAI GPT's gelu is slightly different (and gives slightly different results):\u001B[39;00m\n\u001B[32m     38\u001B[39m \u001B[33;03m    0.5 * x * (1 + torch.tanh(math.sqrt(2 / math.pi) * (x + 0.044715 * torch.pow(x, 3)))) Also see\u001B[39;00m\n\u001B[32m     39\u001B[39m \u001B[33;03m    https://huggingface.co/papers/1606.08415\u001B[39;00m\n\u001B[32m     40\u001B[39m \u001B[33;03m    \"\"\"\u001B[39;00m\n",
      "\u001B[31mValueError\u001B[39m: Your currently installed version of Keras is Keras 3, but this is not yet supported in Transformers. Please install the backwards-compatible tf-keras package with `pip install tf-keras`."
     ]
    }
   ],
   "execution_count": 15
  },
  {
   "metadata": {},
   "cell_type": "markdown",
   "source": "ValueError: Your currently installed version of Keras is Keras 3, but this is not yet supported in Transformers. Please install the backwards-compatible tf-keras package with `pip install tf-keras`.",
   "id": "da3ee6eb75b7f7f4"
  },
  {
   "metadata": {},
   "cell_type": "markdown",
   "source": [
    "## self-hosted AI\n",
    "run locally\n",
    "OpenWeights, OpenSource\n",
    "\n",
    "### Huggingface_hub\n",
    "https://github.com/huggingface/huggingface_hub\n",
    "\n",
    "### Ollama\n",
    "https://github.com/ollama/ollama-python\n",
    "\n",
    "Models:\n",
    "https://ollama.com/search\n",
    "- Meta AI: Llama 3.2 (1b)\n",
    "- Open AI OSS (20b)\n",
    "- DeepSeek R1\n",
    "- Google Gemma 3\n",
    "- Qwen 3\n",
    "- Mistral (7b)\n"
   ],
   "id": "a9c5cc79f4691631"
  },
  {
   "metadata": {},
   "cell_type": "markdown",
   "source": [
    "## Proprietary AI\n",
    "Benchmarks:\n",
    "\n",
    "https://artificialanalysis.ai/models\n",
    "\n",
    "https://lmarena.ai/leaderboard\n",
    "\n",
    "LLM\n",
    "- OpenAI: ChatGPT, GPT-5, o3, GPT-4.1\n",
    "- Anthropic: Claude 4.1 Opus Thinking, Sonnet 3.7\n",
    "- Google Gemini: Gemini 2.5 Flash (Reasoning), Pro, Flash Image (Nano Banana), Imagen, Veo3\n",
    "- X AI: Grok 4\n",
    "\n",
    "Image Generation, Editing\n",
    "- Flash 2.5 Image (Nano Banana), Imagen, Flux, SD v35, SeeDream, SeeEdit, GPT-Image, Dall-E 3, Qwen-Image\n",
    "\n",
    "Video Generation\n",
    "- Veo3, SeeDance, Kling, Wan\n"
   ],
   "id": "eb9fbd5f23fa4e99"
  },
  {
   "metadata": {},
   "cell_type": "markdown",
   "source": [
    "### OpenAI\n",
    "https://github.com/openai/openai-python\n",
    "\n",
    "https://github.com/openai/openai-cookbook\n"
   ],
   "id": "2297ae49abd7df8c"
  },
  {
   "metadata": {},
   "cell_type": "markdown",
   "source": [
    "## MCP\n",
    "https://mcp.so/\n",
    "\n",
    "https://modelcontextprotocol.io/docs/getting-started/intro\n",
    "\n",
    "https://github.com/modelcontextprotocol/servers\n",
    "\n",
    "https://github.com/modelcontextprotocol/python-sdk"
   ],
   "id": "25e8dec401171730"
  },
  {
   "metadata": {},
   "cell_type": "markdown",
   "source": [
    "### LangChain\n",
    "https://python.langchain.com/docs/introduction/\n",
    "\n",
    "https://github.com/langchain-ai\n"
   ],
   "id": "fde478bc38fe8762"
  },
  {
   "metadata": {
    "ExecuteTime": {
     "end_time": "2025-08-31T00:41:55.137300Z",
     "start_time": "2025-08-31T00:41:43.911820Z"
    }
   },
   "cell_type": "code",
   "source": [
    "from langchain.chat_models import init_chat_model\n",
    "import os\n",
    "import dotenv\n",
    "dotenv.load_dotenv()\n",
    "#api_key = os.getenv(\"GOOGLE_API_KEY\")\n",
    "\n",
    "model = init_chat_model(\"gemini-2.5-flash\", model_provider=\"google_genai\")\n",
    "model.invoke(\"Why is the Sky blue?\")"
   ],
   "id": "135119ff201cd4d7",
   "outputs": [
    {
     "data": {
      "text/plain": [
       "AIMessage(content='The sky is blue because of a phenomenon called **Rayleigh scattering**. Here\\'s a breakdown of why:\\n\\n1.  **Sunlight is White Light:** The light from the sun appears white to us, but it\\'s actually made up of all the colors of the rainbow (red, orange, yellow, green, blue, indigo, violet). Each of these colors has a different **wavelength**. Blue and violet light have shorter, smaller wavelengths, while red and orange light have longer, larger wavelengths.\\n\\n2.  **Earth\\'s Atmosphere:** Our planet is surrounded by an atmosphere composed of tiny gas molecules, primarily nitrogen (about 78%) and oxygen (about 21%). These molecules are much smaller than the wavelengths of visible light.\\n\\n3.  **The Scattering Effect:** When sunlight enters the atmosphere, it bumps into these tiny gas molecules. This causes the light to scatter in all directions.\\n\\n4.  **Why Blue is Scattered More:** Rayleigh scattering states that light with shorter wavelengths (like blue and violet) is scattered much more efficiently by tiny particles (like our atmospheric gas molecules) than light with longer wavelengths (like red and orange).\\n    *   Think of it like this: the small blue waves get \"caught\" and redirected by the tiny molecules much more easily than the long red waves, which tend to pass through relatively undisturbed.\\n\\n5.  **What We See:**\\n    *   When you look up at the sky, you\\'re seeing all this scattered blue and violet light coming from every direction above you.\\n    *   Even though violet light is scattered slightly more than blue, our eyes are more sensitive to blue light, and there\\'s also more blue light in the sun\\'s spectrum to begin with. So, the sky appears predominantly blue.\\n    *   The other colors (green, yellow, orange, red) travel more directly through the atmosphere to our eyes. This is why the sun itself appears yellowish-white when it\\'s high in the sky – the blue light has been scattered away, leaving a slightly yellowed mix.\\n\\n**What about Sunrises and Sunsets?**\\n\\nWhen the sun is low on the horizon (at sunrise or sunset), its light has to travel through **much more** of the atmosphere to reach your eyes. This means even *more* of the blue and violet light gets scattered away, often out of your line of sight. What\\'s left are the longer wavelength colors – reds, oranges, and yellows – which can penetrate the atmosphere more directly, creating those beautiful, warm hues.\\n\\nIn short: **The sky is blue because the tiny molecules in Earth\\'s atmosphere scatter blue light more efficiently than other colors, spreading it across the sky for us to see.**', additional_kwargs={}, response_metadata={'prompt_feedback': {'block_reason': 0, 'safety_ratings': []}, 'finish_reason': 'STOP', 'model_name': 'gemini-2.5-flash', 'safety_ratings': []}, id='run--ee6f6ebe-5c0a-48b6-89ab-47f300e3f28a-0', usage_metadata={'input_tokens': 7, 'output_tokens': 1734, 'total_tokens': 1741, 'input_token_details': {'cache_read': 0}, 'output_token_details': {'reasoning': 1168}})"
      ]
     },
     "execution_count": 22,
     "metadata": {},
     "output_type": "execute_result"
    }
   ],
   "execution_count": 22
  },
  {
   "metadata": {},
   "cell_type": "markdown",
   "source": [
    "### Google Gemini API\n",
    "https://ai.google.dev/\n",
    "\n",
    "https://ai.google.dev/gemini-api/docs\n",
    "\n",
    "***https://github.com/googleapis/python-genai***\n",
    "\n",
    "https://googleapis.github.io/python-genai/\n",
    "\n",
    "https://github.com/google-gemini/cookbook\n",
    "\n",
    "https://developers.google.com/learn/pathways/solution-ai-gemini-getting-started-web\n",
    "\n",
    "https://developer.android.com/ai/gemini/developer-api\n",
    "\n",
    "https://aistudio.google.com/prompts/new_chat\n",
    "\n",
    "https://gemini.google.com/app\n",
    "\n",
    "https://deepmind.google/models/gemini/"
   ],
   "id": "2fa0670c9007a603"
  },
  {
   "metadata": {
    "ExecuteTime": {
     "end_time": "2025-08-31T00:07:42.287936Z",
     "start_time": "2025-08-31T00:07:28.831037Z"
    }
   },
   "cell_type": "code",
   "outputs": [
    {
     "name": "stdout",
     "output_type": "stream",
     "text": [
      "**Machines learn from data to find patterns and make intelligent decisions.**\n"
     ]
    }
   ],
   "execution_count": 14,
   "source": [
    "from google import genai\n",
    "from dotenv import load_dotenv\n",
    "load_dotenv()\n",
    "#client = genai.Client(api_key=os.getenv(\"GEMINI_API_KEY\"))\n",
    "# The client gets the API key from the environment variable GEMINI_API_KEY\n",
    "client = genai.Client()\n",
    "\n",
    "response = client.models.generate_content(\n",
    "    model=\"gemini-2.5-flash\",\n",
    "    contents=\"Explain how AI works in a few words\",\n",
    ")\n",
    "\n",
    "print(response.text)"
   ],
   "id": "32bba94008045f0b"
  }
 ],
 "metadata": {
  "kernelspec": {
   "display_name": "Python 3",
   "language": "python",
   "name": "python3"
  },
  "language_info": {
   "codemirror_mode": {
    "name": "ipython",
    "version": 2
   },
   "file_extension": ".py",
   "mimetype": "text/x-python",
   "name": "python",
   "nbconvert_exporter": "python",
   "pygments_lexer": "ipython2",
   "version": "2.7.6"
  }
 },
 "nbformat": 4,
 "nbformat_minor": 5
}
