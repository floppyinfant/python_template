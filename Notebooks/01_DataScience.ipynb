{
 "cells": [
  {
   "metadata": {},
   "cell_type": "markdown",
   "source": "# builtin DataStructures",
   "id": "49109c8d1a0a0acc"
  },
  {
   "metadata": {},
   "cell_type": "code",
   "outputs": [],
   "execution_count": null,
   "source": [
    "# datatypes\n",
    "t_i: int\n",
    "t_f: float\n",
    "t_c: complex = 1 + 2j\n",
    "t_s: str\n",
    "t_b: bool\n",
    "t_y: bytes\n",
    "# bytearray"
   ],
   "id": "c9561eaad51c9edf"
  },
  {
   "metadata": {
    "ExecuteTime": {
     "end_time": "2025-09-01T12:22:14.593559Z",
     "start_time": "2025-09-01T12:22:14.589624Z"
    }
   },
   "cell_type": "code",
   "source": [
    "# datastructures\n",
    "ds_l: list = [1, 2, 3]\n",
    "ds_t: tuple = (1, 2, 3)\n",
    "ds_d: dict = {1: \"hello\", 2: \"world\"}\n",
    "ds_s: set = {1, 2, 3}\n",
    "ds_f: frozenset = frozenset({1, 2, 3})"
   ],
   "id": "82c50e69b5439937",
   "outputs": [],
   "execution_count": 7
  },
  {
   "metadata": {},
   "cell_type": "code",
   "outputs": [],
   "execution_count": null,
   "source": [
    "# collections\n",
    "from collections import deque  # stack, queue, linked list, graph, ..."
   ],
   "id": "336636a0f07d4caa"
  },
  {
   "metadata": {},
   "cell_type": "code",
   "outputs": [],
   "execution_count": null,
   "source": "# iterables (iter, next)",
   "id": "bf8eaaf40580ba3d"
  },
  {
   "metadata": {},
   "cell_type": "code",
   "outputs": [],
   "execution_count": null,
   "source": "# generators (yield, next)",
   "id": "3f76e63d3b33c9cb"
  },
  {
   "metadata": {},
   "cell_type": "code",
   "outputs": [],
   "execution_count": null,
   "source": [
    "from types import NoneType\n",
    "from typing import Any\n",
    "import datetime"
   ],
   "id": "9664426d88b8f9ae"
  },
  {
   "metadata": {},
   "cell_type": "markdown",
   "source": "## Pydantic",
   "id": "67f34501c8b206f8"
  },
  {
   "metadata": {},
   "cell_type": "code",
   "outputs": [],
   "execution_count": null,
   "source": "from pydantic import BaseModel",
   "id": "38b718fa7154a241"
  },
  {
   "metadata": {},
   "cell_type": "markdown",
   "source": "## Dataclass Decorator",
   "id": "a380efb0a1b9190"
  },
  {
   "metadata": {},
   "cell_type": "code",
   "outputs": [],
   "execution_count": null,
   "source": "from dataclasses import dataclass",
   "id": "ed5c666cf989f6ad"
  },
  {
   "metadata": {},
   "cell_type": "markdown",
   "source": "# DataScience Libraries",
   "id": "dddd9fbdb43cbe73"
  },
  {
   "metadata": {},
   "cell_type": "markdown",
   "source": [
    "### Tutorials\n",
    "https://www.w3schools.com/python/numpy/default.asp\n",
    "\n",
    "https://www.datacamp.com/tutorial/python-numpy-tutorial\n",
    "\n",
    "https://www.geeksforgeeks.org/python/numpy-tutorial/\n",
    "\n",
    "https://www.programiz.com/python-programming/numpy\n",
    "\n",
    "### Cheat Sheets\n",
    "https://www.datacamp.com/cheat-sheet\n",
    "\n",
    "https://github.com/FavioVazquez/ds-cheatsheets\n",
    "\n",
    "https://medium.com/@anushka.datascoop/101-data-science-cheat-sheets-ml-dl-scraping-python-r-sql-maths-statistics-ef30b4d786eb"
   ],
   "id": "3d265d75a4097f36"
  },
  {
   "cell_type": "code",
   "id": "initial_id",
   "metadata": {
    "collapsed": true,
    "ExecuteTime": {
     "end_time": "2025-09-01T12:22:23.001010Z",
     "start_time": "2025-09-01T12:22:22.996788Z"
    }
   },
   "source": [
    "import numpy as np\n",
    "import pandas as pd\n",
    "import scipy as sp\n",
    "import sklearn as sk\n",
    "\n",
    "import matplotlib.pyplot as plt\n",
    "import seaborn as sns\n",
    "import bokeh\n",
    "import streamlit as st\n",
    "\n",
    "from numba import jit, njit"
   ],
   "outputs": [],
   "execution_count": 8
  },
  {
   "metadata": {},
   "cell_type": "markdown",
   "source": [
    "### NumPy\n",
    "https://numpy.org/\n",
    "\n",
    "https://numpy.org/doc/stable/\n",
    "\n",
    "https://github.com/numpy/numpy\n"
   ],
   "id": "362fa86a99ab7983"
  },
  {
   "metadata": {
    "ExecuteTime": {
     "end_time": "2025-09-20T03:47:05.630643Z",
     "start_time": "2025-09-20T03:47:05.623699Z"
    }
   },
   "cell_type": "code",
   "source": [
    "import numpy as np\n",
    "\n",
    "# np.info(np.ndarray.dtype)\n",
    "a = np.array([[1,2,3], [4,5,6], [7,8,9]], dtype=np.float64)\n",
    "print(\"a: ndim ==\", a.ndim, \", shape ==\", a.shape, \"\\n\", a)\n",
    "b = np.arange(-10, 10, 2)\n",
    "print(\"\\nb:\\n\", b)\n",
    "c = np.random.random((2, 3, 4))\n",
    "print(\"\\nc: ndim ==\", c.ndim, \", shape ==\", c.shape, \"\\n\", c)\n",
    "d = np.empty((2, 3))\n",
    "print(\"\\nd:\\n\", d)"
   ],
   "id": "f46ca9b52bd0f4",
   "outputs": [
    {
     "name": "stdout",
     "output_type": "stream",
     "text": [
      "a: ndim == 2 , shape == (3, 3) \n",
      " [[1. 2. 3.]\n",
      " [4. 5. 6.]\n",
      " [7. 8. 9.]]\n",
      "\n",
      "b:\n",
      " [-10  -8  -6  -4  -2   0   2   4   6   8]\n",
      "\n",
      "c: ndim == 3 , shape == (2, 3, 4) \n",
      " [[[0.06068422 0.55594687 0.04346299 0.98264014]\n",
      "  [0.58761116 0.45954214 0.52516602 0.49034255]\n",
      "  [0.16512509 0.6140393  0.94397527 0.00864075]]\n",
      "\n",
      " [[0.8598368  0.52606243 0.5912526  0.76407521]\n",
      "  [0.69346933 0.17883144 0.76066694 0.00134549]\n",
      "  [0.48136616 0.39766067 0.69676306 0.31946241]]]\n",
      "\n",
      "d:\n",
      " [[1. 2. 3.]\n",
      " [4. 5. 6.]]\n"
     ]
    }
   ],
   "execution_count": 3
  },
  {
   "metadata": {},
   "cell_type": "markdown",
   "source": [
    "Indexing, Slicing, Boolean Selection, Fancy Indexing\n",
    "@see R Language"
   ],
   "id": "c10462bcb4f72355"
  },
  {
   "metadata": {
    "ExecuteTime": {
     "end_time": "2025-09-01T12:25:04.161462Z",
     "start_time": "2025-09-01T12:25:04.156892Z"
    }
   },
   "cell_type": "code",
   "source": [
    "# Indexing\n",
    "\n",
    "# Slicing\n",
    "print(b[1:6])\n",
    "print(b[1:2])\n",
    "\n",
    "# fancy indexing\n"
   ],
   "id": "7ebdd65a3b794543",
   "outputs": [
    {
     "name": "stdout",
     "output_type": "stream",
     "text": [
      "[-8 -6 -4 -2  0]\n",
      "[-8]\n"
     ]
    }
   ],
   "execution_count": 20
  },
  {
   "metadata": {},
   "cell_type": "markdown",
   "source": [
    "#### Linear Algebra\n",
    "3Blue1Brown: Essence of Linear Algebra\n",
    "\n",
    "https://www.youtube.com/watch?v=k7RM-ot2NWY&list=PLZHQObOWTQDPD3MizzM2xVFitgF8hE_ab\n",
    "\n",
    "Visualizations using Manim:\n",
    "\n",
    "https://youtu.be/rbu7Zu5X1zI\n",
    "\n",
    "https://github.com/ManimCommunity/manim/\n",
    "\n",
    "LaTeX Formatting in Markdown Cells:\n",
    "\n",
    "https://www.underleaf.ai/learn/latex/vectors\n"
   ],
   "id": "75230be2ae80c41f"
  },
  {
   "metadata": {},
   "cell_type": "markdown",
   "source": [
    "Vector\n",
    "- Dimension\n",
    "- Addition\n",
    "- Scaling (Skalar Multiplikation)\n",
    "- Basis Vectors (\"i hat\", \"j hat\"): Transformation $\\vec{v} = \\vec{v_1}[0] * \\hat{\\imath} + \\vec{v_1}[1] * \\hat{\\jmath}$\n",
    "- Transformation Matrix \"2x2 Matrix\":\n",
    "$$\n",
    "\\vec{v} *\n",
    "\\left [\n",
    "\\begin{matrix}\n",
    "\\hat{\\imath} & \\hat{\\jmath}\n",
    "\\end{matrix}\n",
    "\\right ]\n",
    "= \\left [ \\begin{matrix} x \\\\ y \\end{matrix} \\right ] \\left [ \\begin{matrix} a & b \\\\ c & d \\end{matrix} \\right ]\n",
    "= x \\left [ \\begin{matrix} a \\\\ c \\end{matrix} \\right ] + y \\left [ \\begin{matrix} b \\\\ d \\end{matrix} \\right ]\n",
    "= \\left [ \\begin{matrix} ax + by \\\\ cx + dy \\end{matrix} \\right ]\n",
    "$$\n",
    "- Inner Product (Skalarprodukt)\n",
    "- Norm\n",
    "- Einheitsvektor\n",
    "- Dot-Product (Skalarprodukt)\n",
    "- Multiplicaion, Division\n",
    "- Norm\n",
    "\n",
    "Matrices\n",
    "\n",
    "Determinante\n",
    "\n",
    "Eigenvalues, Eigenvektor"
   ],
   "id": "8327a4e97d10b66c"
  },
  {
   "metadata": {
    "ExecuteTime": {
     "end_time": "2025-09-20T04:07:27.820614Z",
     "start_time": "2025-09-20T04:07:27.712868Z"
    }
   },
   "cell_type": "code",
   "source": [
    "import numpy as np\n",
    "import matplotlib.pyplot as plt\n",
    "\n",
    "# a list of rows: a[row][col]: \"Zeilenvektoren\"\n",
    "a = np.array([[1,2,3], [4,5,6], [7,8,9]], dtype=np.float64)\n",
    "print(\"a: ndim ==\", a.ndim, \", shape ==\", a.shape, \"\\n\", a, \"\\n\")\n",
    "\n",
    "# \"Spaltenvektoren\"\n",
    "b = a.transpose()\n",
    "print(b)\n",
    "\n",
    "plt.imshow(b)\n",
    "plt.show()\n"
   ],
   "id": "202bdf797889a16d",
   "outputs": [
    {
     "name": "stdout",
     "output_type": "stream",
     "text": [
      "a: ndim == 2 , shape == (3, 3) \n",
      " [[1. 2. 3.]\n",
      " [4. 5. 6.]\n",
      " [7. 8. 9.]] \n",
      "\n",
      "[[1. 4. 7.]\n",
      " [2. 5. 8.]\n",
      " [3. 6. 9.]]\n"
     ]
    },
    {
     "data": {
      "text/plain": [
       "<Figure size 640x480 with 1 Axes>"
      ],
      "image/png": "[encoded data removed]"
     },
     "metadata": {},
     "output_type": "display_data"
    }
   ],
   "execution_count": 17
  },
  {
   "metadata": {},
   "cell_type": "markdown",
   "source": [
    "### SymPy\n",
    "https://www.sympy.org/\n",
    "\n",
    "https://docs.sympy.org/latest/index.html\n",
    "\n",
    "https://github.com/sympy/sympy\n",
    "\n",
    "Symbolic Mathematics vs. numeric computation (floating point numbers are not precise!)\n",
    "\n",
    "Computer Algebra System (CAS): Mathematica (Wolfram Alpha), Maple, Maxima, SageMath, Axiom\n",
    "\n",
    "https://youtu.be/j9FAIJb0lso (deutsch)\n",
    "\n",
    "https://youtu.be/VKOYjemQRqw (english)"
   ],
   "id": "51f1fb27ba28b8f0"
  },
  {
   "metadata": {
    "ExecuteTime": {
     "end_time": "2025-09-20T19:27:03.700630Z",
     "start_time": "2025-09-20T19:27:03.649905Z"
    }
   },
   "cell_type": "code",
   "source": [
    "from sympy import Symbol, cos\n",
    "\n",
    "x = Symbol('x')\n",
    "e = 1/cos(x)\n",
    "print(e.series(x, 0, 10))"
   ],
   "id": "4867526bcca331e1",
   "outputs": [
    {
     "name": "stdout",
     "output_type": "stream",
     "text": [
      "1 + x**2/2 + 5*x**4/24 + 61*x**6/720 + 277*x**8/8064 + O(x**10)\n"
     ]
    }
   ],
   "execution_count": 47
  },
  {
   "metadata": {
    "ExecuteTime": {
     "end_time": "2025-09-20T19:11:37.972697Z",
     "start_time": "2025-09-20T19:11:37.964949Z"
    }
   },
   "cell_type": "code",
   "source": [
    "import sympy\n",
    "import math\n",
    "print(math.sqrt(2))\n",
    "sympy.sqrt(2)"
   ],
   "id": "5edfa9f8335db16a",
   "outputs": [
    {
     "name": "stdout",
     "output_type": "stream",
     "text": [
      "1.4142135623730951\n"
     ]
    },
    {
     "data": {
      "text/plain": [
       "sqrt(2)"
      ],
      "text/latex": "$\\displaystyle \\sqrt{2}$"
     },
     "execution_count": 29,
     "metadata": {},
     "output_type": "execute_result"
    }
   ],
   "execution_count": 29
  },
  {
   "metadata": {
    "ExecuteTime": {
     "end_time": "2025-09-20T19:13:47.071210Z",
     "start_time": "2025-09-20T19:13:47.064745Z"
    }
   },
   "cell_type": "code",
   "source": [
    "sympy.sqrt(2).evalf(16)\n",
    "#sympy.N(sympy.pi, 7)"
   ],
   "id": "d2cf76d666036fe9",
   "outputs": [
    {
     "data": {
      "text/plain": [
       "1.414213562373095"
      ],
      "text/latex": "$\\displaystyle 1.414213562373095$"
     },
     "execution_count": 35,
     "metadata": {},
     "output_type": "execute_result"
    }
   ],
   "execution_count": 35
  },
  {
   "metadata": {
    "ExecuteTime": {
     "end_time": "2025-09-20T19:12:47.124346Z",
     "start_time": "2025-09-20T19:12:47.117979Z"
    }
   },
   "cell_type": "code",
   "source": "sympy.sqrt(16/2)",
   "id": "bc7c8cab5c3ddebb",
   "outputs": [
    {
     "data": {
      "text/plain": [
       "2.82842712474619"
      ],
      "text/latex": "$\\displaystyle 2.82842712474619$"
     },
     "execution_count": 32,
     "metadata": {},
     "output_type": "execute_result"
    }
   ],
   "execution_count": 32
  },
  {
   "metadata": {
    "ExecuteTime": {
     "end_time": "2025-09-20T19:12:29.117643Z",
     "start_time": "2025-09-20T19:12:29.108498Z"
    }
   },
   "cell_type": "code",
   "source": "sympy.sqrt(16//2)",
   "id": "ef520d20681d518e",
   "outputs": [
    {
     "data": {
      "text/plain": [
       "2*sqrt(2)"
      ],
      "text/latex": "$\\displaystyle 2 \\sqrt{2}$"
     },
     "execution_count": 31,
     "metadata": {},
     "output_type": "execute_result"
    }
   ],
   "execution_count": 31
  },
  {
   "metadata": {
    "ExecuteTime": {
     "end_time": "2025-09-20T19:21:40.922952Z",
     "start_time": "2025-09-20T19:21:40.918885Z"
    }
   },
   "cell_type": "code",
   "source": "print(sympy.sqrt(2))",
   "id": "3254adc93dd455a0",
   "outputs": [
    {
     "name": "stdout",
     "output_type": "stream",
     "text": [
      "sqrt(2)\n"
     ]
    }
   ],
   "execution_count": 38
  },
  {
   "metadata": {
    "ExecuteTime": {
     "end_time": "2025-09-20T19:22:24.457647Z",
     "start_time": "2025-09-20T19:22:24.452712Z"
    }
   },
   "cell_type": "code",
   "source": [
    "from IPython.display import display\n",
    "display(sympy.sqrt(2))"
   ],
   "id": "4264942c0783f97e",
   "outputs": [
    {
     "data": {
      "text/plain": [
       "sqrt(2)"
      ],
      "text/latex": "$\\displaystyle \\sqrt{2}$"
     },
     "metadata": {},
     "output_type": "display_data"
    }
   ],
   "execution_count": 46
  },
  {
   "metadata": {
    "ExecuteTime": {
     "end_time": "2025-09-20T19:28:55.955605Z",
     "start_time": "2025-09-20T19:28:55.949049Z"
    }
   },
   "cell_type": "code",
   "source": [
    "x = Symbol('x')\n",
    "x*x + 2*x +1"
   ],
   "id": "df241a24790cd695",
   "outputs": [
    {
     "data": {
      "text/plain": [
       "x**2 + 2*x + 1"
      ],
      "text/latex": "$\\displaystyle x^{2} + 2 x + 1$"
     },
     "execution_count": 53,
     "metadata": {},
     "output_type": "execute_result"
    }
   ],
   "execution_count": 53
  },
  {
   "metadata": {
    "ExecuteTime": {
     "end_time": "2025-09-20T19:29:16.271849Z",
     "start_time": "2025-09-20T19:29:16.268712Z"
    }
   },
   "cell_type": "code",
   "source": "polynom = _",
   "id": "dcefa928b870e903",
   "outputs": [],
   "execution_count": 54
  },
  {
   "metadata": {
    "ExecuteTime": {
     "end_time": "2025-09-20T19:29:32.413305Z",
     "start_time": "2025-09-20T19:29:32.408955Z"
    }
   },
   "cell_type": "code",
   "source": "print(polynom)",
   "id": "55a19f5b0a0af39",
   "outputs": [
    {
     "name": "stdout",
     "output_type": "stream",
     "text": [
      "x**2 + 2*x + 1\n"
     ]
    }
   ],
   "execution_count": 55
  },
  {
   "metadata": {
    "ExecuteTime": {
     "end_time": "2025-09-20T19:29:51.206466Z",
     "start_time": "2025-09-20T19:29:51.200200Z"
    }
   },
   "cell_type": "code",
   "source": "display(polynom)",
   "id": "bf3d273e225ce14",
   "outputs": [
    {
     "data": {
      "text/plain": [
       "x**2 + 2*x + 1"
      ],
      "text/latex": "$\\displaystyle x^{2} + 2 x + 1$"
     },
     "metadata": {},
     "output_type": "display_data"
    }
   ],
   "execution_count": 57
  },
  {
   "metadata": {
    "ExecuteTime": {
     "end_time": "2025-09-20T19:31:32.904670Z",
     "start_time": "2025-09-20T19:31:32.898282Z"
    }
   },
   "cell_type": "code",
   "source": "sympy.sympify(\"8/2\")",
   "id": "e360cf540c9d694f",
   "outputs": [
    {
     "data": {
      "text/plain": [
       "4"
      ],
      "text/latex": "$\\displaystyle 4$"
     },
     "execution_count": 59,
     "metadata": {},
     "output_type": "execute_result"
    }
   ],
   "execution_count": 59
  },
  {
   "metadata": {},
   "cell_type": "markdown",
   "source": [
    "### SciPy\n",
    "https://scipy.org/\n",
    "\n",
    "https://docs.scipy.org/doc/scipy/\n",
    "\n",
    "https://github.com/scipy/scipy\n"
   ],
   "id": "db085cb2170390a9"
  },
  {
   "metadata": {
    "ExecuteTime": {
     "end_time": "2025-09-20T19:22:21.497026Z",
     "start_time": "2025-09-20T19:22:21.492976Z"
    }
   },
   "cell_type": "code",
   "source": [
    "import scipy as sp\n",
    "\n",
    "print(sp.constants.pi)\n",
    "print(dir(sp.constants))"
   ],
   "id": "bdf266875d0a375f",
   "outputs": [
    {
     "name": "stdout",
     "output_type": "stream",
     "text": [
      "3.141592653589793\n",
      "['Avogadro', 'Boltzmann', 'Btu', 'Btu_IT', 'Btu_th', 'ConstantWarning', 'G', 'Julian_year', 'N_A', 'Planck', 'R', 'Rydberg', 'Stefan_Boltzmann', 'Wien', '__all__', '__builtins__', '__cached__', '__doc__', '__file__', '__loader__', '__name__', '__package__', '__path__', '__spec__', '_codata', '_constants', '_obsolete_constants', 'acre', 'alpha', 'angstrom', 'arcmin', 'arcminute', 'arcsec', 'arcsecond', 'astronomical_unit', 'atm', 'atmosphere', 'atomic_mass', 'atto', 'au', 'bar', 'barrel', 'bbl', 'blob', 'c', 'calorie', 'calorie_IT', 'calorie_th', 'carat', 'centi', 'codata', 'constants', 'convert_temperature', 'day', 'deci', 'degree', 'degree_Fahrenheit', 'deka', 'dyn', 'dyne', 'e', 'eV', 'electron_mass', 'electron_volt', 'elementary_charge', 'epsilon_0', 'erg', 'exa', 'exbi', 'femto', 'fermi', 'find', 'fine_structure', 'fluid_ounce', 'fluid_ounce_US', 'fluid_ounce_imp', 'foot', 'g', 'gallon', 'gallon_US', 'gallon_imp', 'gas_constant', 'gibi', 'giga', 'golden', 'golden_ratio', 'grain', 'gram', 'gravitational_constant', 'h', 'hbar', 'hectare', 'hecto', 'horsepower', 'hour', 'hp', 'inch', 'k', 'kgf', 'kibi', 'kilo', 'kilogram_force', 'kmh', 'knot', 'lambda2nu', 'lb', 'lbf', 'light_year', 'liter', 'litre', 'long_ton', 'm_e', 'm_n', 'm_p', 'm_u', 'mach', 'mebi', 'mega', 'metric_ton', 'micro', 'micron', 'mil', 'mile', 'milli', 'minute', 'mmHg', 'mph', 'mu_0', 'nano', 'nautical_mile', 'neutron_mass', 'nu2lambda', 'ounce', 'oz', 'parsec', 'pebi', 'peta', 'physical_constants', 'pi', 'pico', 'point', 'pound', 'pound_force', 'precision', 'proton_mass', 'psi', 'pt', 'quecto', 'quetta', 'ronna', 'ronto', 'short_ton', 'sigma', 'slinch', 'slug', 'speed_of_light', 'speed_of_sound', 'stone', 'survey_foot', 'survey_mile', 'tebi', 'tera', 'test', 'ton_TNT', 'torr', 'troy_ounce', 'troy_pound', 'u', 'unit', 'value', 'week', 'yard', 'year', 'yobi', 'yocto', 'yotta', 'zebi', 'zepto', 'zero_Celsius', 'zetta']\n"
     ]
    }
   ],
   "execution_count": 45
  },
  {
   "metadata": {},
   "cell_type": "markdown",
   "source": [
    "### Pandas\n",
    "https://pandas.pydata.org/\n",
    "\n",
    "https://pandas.pydata.org/docs/\n",
    "\n",
    "https://github.com/pandas-dev/pandas\n"
   ],
   "id": "e68981bf291bd6e0"
  },
  {
   "metadata": {
    "ExecuteTime": {
     "end_time": "2025-09-18T19:31:28.108394Z",
     "start_time": "2025-09-18T19:31:28.096149Z"
    }
   },
   "cell_type": "code",
   "source": [
    "import pandas as pd\n",
    "\n",
    "df = pd.DataFrame(np.random.randn(10, 5))\n",
    "print(df)"
   ],
   "id": "ccb79ee9b8e9450d",
   "outputs": [
    {
     "name": "stdout",
     "output_type": "stream",
     "text": [
      "          0         1         2         3         4\n",
      "0 -1.029821 -0.320357 -2.016764 -0.636911 -0.317722\n",
      "1  1.120291  0.668448  0.731647 -0.583553 -0.880109\n",
      "2  0.657069  0.019824  0.919699  1.177724  0.915178\n",
      "3 -0.182815 -0.505317 -0.527617  0.642892 -1.109365\n",
      "4 -0.097432 -0.037036  0.580181  0.813819  0.076590\n",
      "5 -0.759901  0.022781  1.278975 -1.292139  1.215647\n",
      "6 -1.691097  1.269091  0.971922  2.233555  0.616795\n",
      "7 -1.007745 -0.483714  0.184058 -0.408641  0.500001\n",
      "8  0.547126 -0.207847  0.307365 -0.305317 -0.283674\n",
      "9  0.694584  1.277401  0.118416 -2.596692  0.542142\n"
     ]
    }
   ],
   "execution_count": 5
  },
  {
   "metadata": {},
   "cell_type": "markdown",
   "source": [
    "#### (Interactive) Data Exploration\n",
    "#### Exploratory Data Analysis (EDA)\n",
    "Statistics"
   ],
   "id": "d8b3c1b98fae173"
  },
  {
   "metadata": {
    "ExecuteTime": {
     "end_time": "2025-09-18T19:31:31.056399Z",
     "start_time": "2025-09-18T19:31:31.036812Z"
    }
   },
   "cell_type": "code",
   "source": "df.head()",
   "id": "e3674db1595a70f9",
   "outputs": [
    {
     "data": {
      "text/plain": [
       "          0         1         2         3         4\n",
       "0 -1.029821 -0.320357 -2.016764 -0.636911 -0.317722\n",
       "1  1.120291  0.668448  0.731647 -0.583553 -0.880109\n",
       "2  0.657069  0.019824  0.919699  1.177724  0.915178\n",
       "3 -0.182815 -0.505317 -0.527617  0.642892 -1.109365\n",
       "4 -0.097432 -0.037036  0.580181  0.813819  0.076590"
      ],
      "text/html": [
       "<div>\n",
       "<style scoped>\n",
       "    .dataframe tbody tr th:only-of-type {\n",
       "        vertical-align: middle;\n",
       "    }\n",
       "\n",
       "    .dataframe tbody tr th {\n",
       "        vertical-align: top;\n",
       "    }\n",
       "\n",
       "    .dataframe thead th {\n",
       "        text-align: right;\n",
       "    }\n",
       "</style>\n",
       "<table border=\"1\" class=\"dataframe\">\n",
       "  <thead>\n",
       "    <tr style=\"text-align: right;\">\n",
       "      <th></th>\n",
       "      <th>0</th>\n",
       "      <th>1</th>\n",
       "      <th>2</th>\n",
       "      <th>3</th>\n",
       "      <th>4</th>\n",
       "    </tr>\n",
       "  </thead>\n",
       "  <tbody>\n",
       "    <tr>\n",
       "      <th>0</th>\n",
       "      <td>-1.029821</td>\n",
       "      <td>-0.320357</td>\n",
       "      <td>-2.016764</td>\n",
       "      <td>-0.636911</td>\n",
       "      <td>-0.317722</td>\n",
       "    </tr>\n",
       "    <tr>\n",
       "      <th>1</th>\n",
       "      <td>1.120291</td>\n",
       "      <td>0.668448</td>\n",
       "      <td>0.731647</td>\n",
       "      <td>-0.583553</td>\n",
       "      <td>-0.880109</td>\n",
       "    </tr>\n",
       "    <tr>\n",
       "      <th>2</th>\n",
       "      <td>0.657069</td>\n",
       "      <td>0.019824</td>\n",
       "      <td>0.919699</td>\n",
       "      <td>1.177724</td>\n",
       "      <td>0.915178</td>\n",
       "    </tr>\n",
       "    <tr>\n",
       "      <th>3</th>\n",
       "      <td>-0.182815</td>\n",
       "      <td>-0.505317</td>\n",
       "      <td>-0.527617</td>\n",
       "      <td>0.642892</td>\n",
       "      <td>-1.109365</td>\n",
       "    </tr>\n",
       "    <tr>\n",
       "      <th>4</th>\n",
       "      <td>-0.097432</td>\n",
       "      <td>-0.037036</td>\n",
       "      <td>0.580181</td>\n",
       "      <td>0.813819</td>\n",
       "      <td>0.076590</td>\n",
       "    </tr>\n",
       "  </tbody>\n",
       "</table>\n",
       "</div>"
      ]
     },
     "execution_count": 6,
     "metadata": {},
     "output_type": "execute_result"
    }
   ],
   "execution_count": 6
  },
  {
   "metadata": {},
   "cell_type": "markdown",
   "source": [
    "groupby()\n",
    "\n",
    "apply(func)"
   ],
   "id": "523a00d829e343ed"
  },
  {
   "metadata": {},
   "cell_type": "markdown",
   "source": [
    "## Data Visualization\n",
    "- Plotting\n",
    "- Plot Types\n",
    "- interactive Data Visualization --> Bokeh\n",
    "- ...\n",
    "- Storytelling"
   ],
   "id": "65cdaeb20d86f53c"
  },
  {
   "metadata": {},
   "cell_type": "markdown",
   "source": [
    "### Matplotlib\n",
    "https://matplotlib.org/\n",
    "\n",
    "https://github.com/matplotlib/matplotlib\n",
    "\n",
    "### Seaborn\n",
    "https://seaborn.pydata.org/\n",
    "\n",
    "### Bokeh\n",
    "https://bokeh.org/\n",
    "\n",
    "https://github.com/bokeh/bokeh\n",
    "\n",
    "### Plotly\n",
    "https://plotly.com/python/\n",
    "\n",
    "https://github.com/plotly/plotly.py\n"
   ],
   "id": "7c230e676ca80156"
  }
 ],
 "metadata": {
  "kernelspec": {
   "display_name": "Python 3",
   "language": "python",
   "name": "python3"
  },
  "language_info": {
   "codemirror_mode": {
    "name": "ipython",
    "version": 2
   },
   "file_extension": ".py",
   "mimetype": "text/x-python",
   "name": "python",
   "nbconvert_exporter": "python",
   "pygments_lexer": "ipython2",
   "version": "2.7.6"
  }
 },
 "nbformat": 4,
 "nbformat_minor": 5
}
