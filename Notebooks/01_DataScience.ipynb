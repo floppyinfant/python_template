{
 "cells": [
  {
   "metadata": {},
   "cell_type": "markdown",
   "source": "# builtin DataStructures",
   "id": "49109c8d1a0a0acc"
  },
  {
   "metadata": {},
   "cell_type": "code",
   "outputs": [],
   "execution_count": null,
   "source": [
    "# datatypes\n",
    "t_i: int\n",
    "t_f: float\n",
    "t_c: complex = 1 + 2j\n",
    "t_s: str\n",
    "t_b: bool\n",
    "t_y: bytes\n",
    "# bytearray"
   ],
   "id": "c9561eaad51c9edf"
  },
  {
   "metadata": {
    "ExecuteTime": {
     "end_time": "2025-09-01T12:22:14.593559Z",
     "start_time": "2025-09-01T12:22:14.589624Z"
    }
   },
   "cell_type": "code",
   "source": [
    "# datastructures\n",
    "ds_l: list = [1, 2, 3]\n",
    "ds_t: tuple = (1, 2, 3)\n",
    "ds_d: dict = {1: \"hello\", 2: \"world\"}\n",
    "ds_s: set = {1, 2, 3}\n",
    "ds_f: frozenset = frozenset({1, 2, 3})"
   ],
   "id": "82c50e69b5439937",
   "outputs": [],
   "execution_count": 7
  },
  {
   "metadata": {},
   "cell_type": "code",
   "outputs": [],
   "execution_count": null,
   "source": [
    "# collections\n",
    "from collections import deque  # stack, queue, linked list, graph, ..."
   ],
   "id": "336636a0f07d4caa"
  },
  {
   "metadata": {},
   "cell_type": "code",
   "outputs": [],
   "execution_count": null,
   "source": "# iterables (iter, next)",
   "id": "bf8eaaf40580ba3d"
  },
  {
   "metadata": {},
   "cell_type": "code",
   "outputs": [],
   "execution_count": null,
   "source": "# generators (yield, next)",
   "id": "3f76e63d3b33c9cb"
  },
  {
   "metadata": {},
   "cell_type": "code",
   "outputs": [],
   "execution_count": null,
   "source": [
    "from types import NoneType\n",
    "from typing import Any\n",
    "import datetime"
   ],
   "id": "9664426d88b8f9ae"
  },
  {
   "metadata": {},
   "cell_type": "markdown",
   "source": "## Pydantic",
   "id": "67f34501c8b206f8"
  },
  {
   "metadata": {},
   "cell_type": "code",
   "outputs": [],
   "execution_count": null,
   "source": "from pydantic import BaseModel",
   "id": "38b718fa7154a241"
  },
  {
   "metadata": {},
   "cell_type": "markdown",
   "source": "## Dataclass Decorator",
   "id": "a380efb0a1b9190"
  },
  {
   "metadata": {},
   "cell_type": "code",
   "outputs": [],
   "execution_count": null,
   "source": "from dataclasses import dataclass",
   "id": "ed5c666cf989f6ad"
  },
  {
   "metadata": {},
   "cell_type": "markdown",
   "source": "# DataScience Libraries",
   "id": "dddd9fbdb43cbe73"
  },
  {
   "metadata": {},
   "cell_type": "markdown",
   "source": [
    "### Tutorials\n",
    "https://www.w3schools.com/python/numpy/default.asp\n",
    "\n",
    "https://www.datacamp.com/tutorial/python-numpy-tutorial\n",
    "\n",
    "https://www.geeksforgeeks.org/python/numpy-tutorial/\n",
    "\n",
    "https://www.programiz.com/python-programming/numpy\n",
    "\n",
    "### Cheat Sheets\n",
    "https://www.datacamp.com/cheat-sheet\n",
    "\n",
    "https://github.com/FavioVazquez/ds-cheatsheets\n",
    "\n",
    "https://medium.com/@anushka.datascoop/101-data-science-cheat-sheets-ml-dl-scraping-python-r-sql-maths-statistics-ef30b4d786eb"
   ],
   "id": "3d265d75a4097f36"
  },
  {
   "cell_type": "code",
   "id": "initial_id",
   "metadata": {
    "collapsed": true,
    "ExecuteTime": {
     "end_time": "2025-09-01T12:22:23.001010Z",
     "start_time": "2025-09-01T12:22:22.996788Z"
    }
   },
   "source": [
    "import numpy as np\n",
    "import pandas as pd\n",
    "import scipy as sp\n",
    "import sklearn as sk\n",
    "\n",
    "import matplotlib.pyplot as plt\n",
    "import seaborn as sns\n",
    "import bokeh\n",
    "import streamlit as st\n",
    "\n",
    "from numba import jit, njit"
   ],
   "outputs": [],
   "execution_count": 8
  },
  {
   "metadata": {},
   "cell_type": "markdown",
   "source": [
    "### NumPy\n",
    "https://numpy.org/\n",
    "\n",
    "https://numpy.org/doc/stable/\n",
    "\n",
    "https://github.com/numpy/numpy\n"
   ],
   "id": "362fa86a99ab7983"
  },
  {
   "metadata": {
    "ExecuteTime": {
     "end_time": "2025-09-01T12:22:26.706249Z",
     "start_time": "2025-09-01T12:22:26.698543Z"
    }
   },
   "cell_type": "code",
   "source": [
    "import numpy as np\n",
    "\n",
    "# np.info(np.ndarray.dtype)\n",
    "a = np.array([(0,0,0), (0,0,0)], dtype=np.float64)\n",
    "print(\"a: ndim ==\", a.ndim, \", shape ==\", a.shape, \"\\n\", a)\n",
    "b = np.arange(-10, 10, 2)\n",
    "print(\"\\nb:\\n\", b)\n",
    "c = np.random.random((2, 3, 4))\n",
    "print(\"\\nc: ndim ==\", c.ndim, \", shape ==\", c.shape, \"\\n\", c)\n",
    "d = np.empty((2, 3))\n",
    "print(\"\\nd:\\n\", d)"
   ],
   "id": "f46ca9b52bd0f4",
   "outputs": [
    {
     "name": "stdout",
     "output_type": "stream",
     "text": [
      "a: ndim == 2 , shape == (2, 3) \n",
      " [[0. 0. 0.]\n",
      " [0. 0. 0.]]\n",
      "\n",
      "b:\n",
      " [-10  -8  -6  -4  -2   0   2   4   6   8]\n",
      "\n",
      "c: ndim == 3 , shape == (2, 3, 4) \n",
      " [[[0.52770652 0.48141119 0.19037356 0.34899464]\n",
      "  [0.81194531 0.80745117 0.00536724 0.75874139]\n",
      "  [0.34982088 0.65330272 0.42083324 0.60575772]]\n",
      "\n",
      " [[0.32007537 0.58109708 0.9136067  0.15942395]\n",
      "  [0.57939523 0.3853121  0.34696393 0.78623386]\n",
      "  [0.13846176 0.31408333 0.1005478  0.3204584 ]]]\n",
      "\n",
      "d:\n",
      " [[0. 0. 0.]\n",
      " [0. 0. 0.]]\n"
     ]
    }
   ],
   "execution_count": 9
  },
  {
   "metadata": {},
   "cell_type": "markdown",
   "source": [
    "Indexing, Slicing, Boolean Selection, Fancy Indexing\n",
    "@see R Language"
   ],
   "id": "c10462bcb4f72355"
  },
  {
   "metadata": {
    "ExecuteTime": {
     "end_time": "2025-09-01T12:25:04.161462Z",
     "start_time": "2025-09-01T12:25:04.156892Z"
    }
   },
   "cell_type": "code",
   "source": [
    "# Indexing\n",
    "\n",
    "# Slicing\n",
    "print(b[1:6])\n",
    "print(b[1:2])\n",
    "\n",
    "# fancy indexing\n"
   ],
   "id": "7ebdd65a3b794543",
   "outputs": [
    {
     "name": "stdout",
     "output_type": "stream",
     "text": [
      "[-8 -6 -4 -2  0]\n",
      "[-8]\n"
     ]
    }
   ],
   "execution_count": 20
  },
  {
   "metadata": {},
   "cell_type": "markdown",
   "source": [
    "### SciPy\n",
    "https://scipy.org/\n",
    "\n",
    "https://docs.scipy.org/doc/scipy/\n",
    "\n",
    "https://github.com/scipy/scipy\n"
   ],
   "id": "db085cb2170390a9"
  },
  {
   "metadata": {},
   "cell_type": "code",
   "outputs": [],
   "execution_count": null,
   "source": [
    "import scipy as sp\n",
    "\n",
    "print(sp.constants.pi)\n",
    "print(dir(sp.constants))"
   ],
   "id": "bdf266875d0a375f"
  },
  {
   "metadata": {},
   "cell_type": "markdown",
   "source": [
    "### Pandas\n",
    "https://pandas.pydata.org/\n",
    "\n",
    "https://pandas.pydata.org/docs/\n",
    "\n",
    "https://github.com/pandas-dev/pandas\n"
   ],
   "id": "e68981bf291bd6e0"
  },
  {
   "metadata": {
    "ExecuteTime": {
     "end_time": "2025-08-30T23:31:19.377043Z",
     "start_time": "2025-08-30T23:31:19.339752Z"
    }
   },
   "cell_type": "code",
   "source": [
    "import pandas as pd\n",
    "\n",
    "df = pd.DataFrame(np.random.randn(10, 5))\n",
    "print(df)"
   ],
   "id": "ccb79ee9b8e9450d",
   "outputs": [
    {
     "name": "stdout",
     "output_type": "stream",
     "text": [
      "          0         1         2         3         4\n",
      "0  1.410581 -1.037159 -1.853718  0.715868 -0.405762\n",
      "1 -1.665053 -0.481656  0.304795  0.250721 -1.322102\n",
      "2 -0.108459  1.887141  0.848961  1.535551 -0.234678\n",
      "3 -1.726009 -1.233100  1.151782 -1.342627 -1.588329\n",
      "4  0.379697 -0.711046 -0.135794  0.131507  0.611900\n",
      "5 -2.450640 -0.072400  0.972099  0.474693  0.155217\n",
      "6  0.420618  2.346637  0.453986  0.677277  0.570319\n",
      "7 -0.965587  0.645738  0.463777 -0.114215  0.019365\n",
      "8  0.199079 -0.810680 -0.732313 -0.092759 -0.837703\n",
      "9 -1.853709  0.364416 -0.088943  1.586267 -0.147744\n"
     ]
    }
   ],
   "execution_count": 13
  },
  {
   "metadata": {},
   "cell_type": "markdown",
   "source": [
    "#### (Interactive) Data Exploration\n",
    "#### Exploratory Data Analysis (EDA)\n",
    "Statistics"
   ],
   "id": "d8b3c1b98fae173"
  },
  {
   "metadata": {},
   "cell_type": "markdown",
   "source": [
    "## Data Visualization\n",
    "- Plotting\n",
    "- Plot Types\n",
    "- interactive Data Visualization --> Bokeh\n",
    "- ...\n",
    "- Storytelling"
   ],
   "id": "65cdaeb20d86f53c"
  },
  {
   "metadata": {},
   "cell_type": "markdown",
   "source": [
    "### Matplotlib\n",
    "https://matplotlib.org/\n",
    "\n",
    "https://github.com/matplotlib/matplotlib\n",
    "\n",
    "### Seaborn\n",
    "https://seaborn.pydata.org/\n",
    "\n",
    "### Bokeh\n",
    "https://bokeh.org/\n",
    "\n",
    "https://github.com/bokeh/bokeh\n",
    "\n",
    "### Plotly\n",
    "https://plotly.com/python/\n",
    "\n",
    "https://github.com/plotly/plotly.py\n"
   ],
   "id": "7c230e676ca80156"
  }
 ],
 "metadata": {
  "kernelspec": {
   "display_name": "Python 3",
   "language": "python",
   "name": "python3"
  },
  "language_info": {
   "codemirror_mode": {
    "name": "ipython",
    "version": 2
   },
   "file_extension": ".py",
   "mimetype": "text/x-python",
   "name": "python",
   "nbconvert_exporter": "python",
   "pygments_lexer": "ipython2",
   "version": "2.7.6"
  }
 },
 "nbformat": 4,
 "nbformat_minor": 5
}
