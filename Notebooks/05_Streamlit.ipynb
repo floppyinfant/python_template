{
 "cells": [
  {
   "metadata": {},
   "cell_type": "markdown",
   "source": [
    "### StreamLit\n",
    "https://streamlit.io/\n",
    "\n",
    "https://docs.streamlit.io/\n",
    "\n",
    "https://blog.streamlit.io/\n",
    "\n",
    "https://github.com/streamlit/streamlit\n",
    "\n",
    "```bash\n",
    "streamlit hello\n",
    "```\n",
    "runs a Web App from the Terminal; access in Browser http://localhost:8501/\n",
    "\n",
    "#### Streamlit in Jupyter\n",
    "https://discuss.streamlit.io/t/new-library-streamlit-jupyter-a-new-way-to-develop-streamlit-apps-in-jupyter-notebooks/35679\n",
    "\n",
    "https://docs.kanaries.net/topics/Streamlit/streamlit-jupyterlab\n"
   ],
   "id": "4b04e58fe13eb998"
  },
  {
   "metadata": {
    "ExecuteTime": {
     "end_time": "2025-09-04T09:02:35.729296Z",
     "start_time": "2025-09-04T09:02:34.095259Z"
    }
   },
   "cell_type": "code",
   "source": [
    "import streamlit as st\n",
    "# must be run from Terminal\n",
    "\n",
    "st.write(\"\"\"\n",
    "# Welcome to *Streamlit*\n",
    "Hello, World!\n",
    "\"\"\")"
   ],
   "id": "d25443d7240ca697",
   "outputs": [
    {
     "name": "stderr",
     "output_type": "stream",
     "text": [
      "2025-09-04 11:02:35.114 WARNING streamlit.runtime.scriptrunner_utils.script_run_context: Thread 'MainThread': missing ScriptRunContext! This warning can be ignored when running in bare mode.\n",
      "2025-09-04 11:02:35.725 \n",
      "  \u001B[33m\u001B[1mWarning:\u001B[0m to view this Streamlit app on a browser, run it with the following\n",
      "  command:\n",
      "\n",
      "    streamlit run L:\\WORKSPACES\\PYTHON_WS\\python_template\\.venv\\Lib\\site-packages\\ipykernel_launcher.py [ARGUMENTS]\n",
      "2025-09-04 11:02:35.726 Thread 'MainThread': missing ScriptRunContext! This warning can be ignored when running in bare mode.\n",
      "2025-09-04 11:02:35.726 Thread 'MainThread': missing ScriptRunContext! This warning can be ignored when running in bare mode.\n"
     ]
    }
   ],
   "execution_count": 1
  }
 ],
 "metadata": {
  "kernelspec": {
   "display_name": "Python 3",
   "language": "python",
   "name": "python3"
  },
  "language_info": {
   "codemirror_mode": {
    "name": "ipython",
    "version": 2
   },
   "file_extension": ".py",
   "mimetype": "text/x-python",
   "name": "python",
   "nbconvert_exporter": "python",
   "pygments_lexer": "ipython2",
   "version": "2.7.6"
  }
 },
 "nbformat": 4,
 "nbformat_minor": 5
}
