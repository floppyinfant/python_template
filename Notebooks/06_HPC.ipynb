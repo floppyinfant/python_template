{
 "cells": [
  {
   "metadata": {},
   "cell_type": "markdown",
   "source": [
    "### Numba\n",
    "https://numba.pydata.org/\n",
    "\n",
    "https://github.com/numba/numba\n"
   ],
   "id": "93246aea47403f2"
  },
  {
   "metadata": {},
   "cell_type": "markdown",
   "source": [
    "### Cython\n",
    "https://cython.org/"
   ],
   "id": "7f2d5249ca58d7c4"
  }
 ],
 "metadata": {
  "kernelspec": {
   "display_name": "Python 3",
   "language": "python",
   "name": "python3"
  },
  "language_info": {
   "codemirror_mode": {
    "name": "ipython",
    "version": 2
   },
   "file_extension": ".py",
   "mimetype": "text/x-python",
   "name": "python",
   "nbconvert_exporter": "python",
   "pygments_lexer": "ipython2",
   "version": "2.7.6"
  }
 },
 "nbformat": 4,
 "nbformat_minor": 5
}
