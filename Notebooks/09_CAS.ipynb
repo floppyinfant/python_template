{
 "cells": [
  {
   "metadata": {},
   "cell_type": "markdown",
   "source": [
    "# Computer Algebra System (CAS)\n",
    "\n",
    "Mathematica (Wolfram Alpha), Maple, Maxima, SageMath, Axiom ... SymPy\n",
    "\n",
    "Symbolic Mathematics vs. numeric computation: floating point numbers are not precise!"
   ],
   "id": "ba5aa6db50a9ba9b"
  },
  {
   "metadata": {
    "collapsed": true
   },
   "cell_type": "markdown",
   "source": [
    "## SymPy\n",
    "\n",
    "https://www.sympy.org/\n",
    "\n",
    "https://docs.sympy.org/latest/index.html\n",
    "\n",
    "https://github.com/sympy/sympy\n",
    "\n",
    "\n",
    "\n",
    "https://youtu.be/j9FAIJb0lso (deutsch)\n",
    "\n",
    "https://youtu.be/VKOYjemQRqw (english)"
   ],
   "id": "362b11a6364e9490"
  },
  {
   "metadata": {},
   "cell_type": "code",
   "outputs": [],
   "execution_count": null,
   "source": [
    "from sympy import Symbol, cos\n",
    "\n",
    "x = Symbol('x')\n",
    "e = 1 / cos(x)\n",
    "print(e.series(x, 0, 10))"
   ],
   "id": "9af7aa0e80dd0b47"
  },
  {
   "metadata": {},
   "cell_type": "code",
   "outputs": [],
   "execution_count": null,
   "source": [
    "import sympy\n",
    "import math\n",
    "\n",
    "print(math.sqrt(2))\n",
    "sympy.sqrt(2)"
   ],
   "id": "e22ab5be3ff472ab"
  }
 ],
 "metadata": {
  "kernelspec": {
   "display_name": "Python 3",
   "language": "python",
   "name": "python3"
  },
  "language_info": {
   "codemirror_mode": {
    "name": "ipython",
    "version": 2
   },
   "file_extension": ".py",
   "mimetype": "text/x-python",
   "name": "python",
   "nbconvert_exporter": "python",
   "pygments_lexer": "ipython2",
   "version": "2.7.6"
  }
 },
 "nbformat": 4,
 "nbformat_minor": 5
}
