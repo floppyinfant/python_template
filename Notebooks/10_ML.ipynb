{
 "cells": [
  {
   "metadata": {},
   "cell_type": "markdown",
   "source": "# Machine Learning",
   "id": "b8859c7dd87182db"
  },
  {
   "metadata": {},
   "cell_type": "markdown",
   "source": [
    "### Scikit-Learn\n",
    "https://scikit-learn.org/stable/\n",
    "\n",
    "https://github.com/scikit-learn/scikit-learn\n",
    "\n",
    "### Scikit-Image\n",
    "https://github.com/scikit-image/scikit-image\n"
   ],
   "id": "a2caa3914fb66f8c"
  },
  {
   "metadata": {
    "ExecuteTime": {
     "end_time": "2025-09-10T18:30:50.983219Z",
     "start_time": "2025-09-10T18:30:50.974925Z"
    }
   },
   "cell_type": "code",
   "source": [
    "import sklearn as sk\n",
    "from sklearn import datasets\n",
    "iris = datasets.load_iris()\n",
    "X = iris.data\n",
    "y = iris.target\n",
    "print(X[0])\n",
    "print(y[0])  # classified class"
   ],
   "id": "2b5b18625a539d9e",
   "outputs": [
    {
     "name": "stdout",
     "output_type": "stream",
     "text": [
      "[5.1 3.5 1.4 0.2]\n",
      "[0 0 0 0 0 0 0 0 0 0 0 0 0 0 0 0 0 0 0 0 0 0 0 0 0 0 0 0 0 0 0 0 0 0 0 0 0\n",
      " 0 0 0 0 0 0 0 0 0 0 0 0 0 1 1 1 1 1 1 1 1 1 1 1 1 1 1 1 1 1 1 1 1 1 1 1 1\n",
      " 1 1 1 1 1 1 1 1 1 1 1 1 1 1 1 1 1 1 1 1 1 1 1 1 1 1 2 2 2 2 2 2 2 2 2 2 2\n",
      " 2 2 2 2 2 2 2 2 2 2 2 2 2 2 2 2 2 2 2 2 2 2 2 2 2 2 2 2 2 2 2 2 2 2 2 2 2\n",
      " 2 2]\n"
     ]
    }
   ],
   "execution_count": 8
  }
 ],
 "metadata": {
  "kernelspec": {
   "display_name": "Python 3",
   "language": "python",
   "name": "python3"
  },
  "language_info": {
   "codemirror_mode": {
    "name": "ipython",
    "version": 2
   },
   "file_extension": ".py",
   "mimetype": "text/x-python",
   "name": "python",
   "nbconvert_exporter": "python",
   "pygments_lexer": "ipython2",
   "version": "2.7.6"
  }
 },
 "nbformat": 4,
 "nbformat_minor": 5
}
