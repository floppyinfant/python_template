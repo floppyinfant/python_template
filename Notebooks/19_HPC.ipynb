{
 "cells": [
  {
   "metadata": {},
   "cell_type": "markdown",
   "source": [
    "# High Performance Computing (HPC)\n",
    "\n",
    "https://en.wikipedia.org/wiki/High-performance_computing\n",
    "\n",
    "## Native Code (Machine Code)\n",
    "\n",
    "C/C++\n",
    "\n",
    "Just in Time Compiler (JIT)\n",
    "\n",
    "Julia Programming Language\n",
    "\n",
    "Bindings:\n",
    "- Numba\n",
    "- Cython\n",
    "- SWIG\n",
    "- Pybind11\n",
    "\n",
    "## Concurrent Programming\n",
    "\n",
    "### Multithreading\n",
    "\n",
    "Multi-Core CPU\n",
    "\n",
    "Tasks / Threads, join, ... Synchronization (Locking: Mutex, Semaphore, Condition Variable)\n",
    "\n",
    "asynchronous programming: async/await (asyncio)\n",
    "\n",
    "## Parallel Computing\n",
    "\n",
    "https://en.wikipedia.org/wiki/Parallel_computing\n",
    "\n",
    "### Multiprocessing\n",
    "\n",
    "shared memory: OpenMP\n",
    "\n",
    "distributed memory: Message Passing Interface (MPI), network-based, multiple nodes / CPUs\n",
    "\n",
    "Python Language: Global Interpreter Lock (GIL)\n",
    "\n",
    "### GPU-Computing / CUDA\n",
    "\n",
    "- OpenGL Shading Language (GLSL)\n",
    "- Open Shading Language (OSL)\n",
    "- OpenCL\n",
    "- CUDA (Nvidia)\n",
    "- ROCm (AMD)\n",
    "\n",
    "### Grid / Cluster\n",
    "\n",
    "Grid: distributed heterogeneous systems\n",
    "\n",
    "https://en.wikipedia.org/wiki/Grid_computing\n",
    "\n",
    "Cluster: distributed homogeneous systems, each node performs the same task as a single system\n",
    "\n",
    "https://en.wikipedia.org/wiki/Computer_cluster\n",
    "\n",
    "High-Availability Cluster (HA Cluster)\n",
    "\n",
    "https://en.wikipedia.org/wiki/High-availability_cluster\n",
    "\n",
    "Load Balancing\n",
    "\n",
    "Nodes\n",
    "\n",
    "### Cloud\n",
    "\n",
    "https://en.wikipedia.org/wiki/Cloud_computing\n",
    "\n",
    "Scalable Computing Platforms, elastically scalable\n",
    "\n",
    "- Azure (Microsoft)\n",
    "- GCP (Google)\n",
    "- AWS (Amazon)\n",
    "\n",
    "map, reduce, pipeline"
   ],
   "id": "d39926b1164a5814"
  },
  {
   "metadata": {},
   "cell_type": "markdown",
   "source": [
    "### Concurrency\n",
    "\n",
    "https://docs.python.org/3/library/concurrency.html\n",
    "\n",
    "GIL (global interpreter lock)\n",
    "\n",
    "https://docs.python.org/3/whatsnew/3.13.html#free-threaded-cpython\n"
   ],
   "id": "cee26716d299d83"
  },
  {
   "metadata": {},
   "cell_type": "code",
   "outputs": [],
   "execution_count": null,
   "source": [
    "import threading\n",
    "\n"
   ],
   "id": "2f12130ba4f83e03"
  },
  {
   "metadata": {},
   "cell_type": "markdown",
   "source": [
    "### Multiprocessing\n",
    "\n",
    "https://docs.python.org/3/library/multiprocessing.html"
   ],
   "id": "9403395df45587de"
  },
  {
   "metadata": {},
   "cell_type": "code",
   "outputs": [],
   "execution_count": null,
   "source": [
    "import multiprocessing as mp\n",
    "#from multiprocessing import Process, Queue, Pool, Pipe\n"
   ],
   "id": "e53d0d155fb3b22a"
  },
  {
   "metadata": {},
   "cell_type": "markdown",
   "source": [
    "### asyncio\n",
    "\n",
    "async/await, Coroutines\n",
    "\n",
    "https://docs.python.org/3/library/asyncio.html"
   ],
   "id": "eed59ea6fcdfe077"
  },
  {
   "metadata": {},
   "cell_type": "markdown",
   "source": [
    "### NumPy\n",
    "\n",
    "Array Programming → vectorized operations on arrays\n",
    "\n",
    "https://en.wikipedia.org/wiki/Array_programming\n",
    "\n",
    "@see R, MATLAB, Julia, PyTorch"
   ],
   "id": "66186b64a497354d"
  },
  {
   "metadata": {},
   "cell_type": "markdown",
   "source": [
    "### Numba\n",
    "https://numba.pydata.org/\n",
    "\n",
    "https://github.com/numba/numba\n",
    "\n",
    "Just in Time Compiler (JIT)"
   ],
   "id": "93246aea47403f2"
  },
  {
   "metadata": {},
   "cell_type": "markdown",
   "source": [
    "### Cython\n",
    "https://cython.org/"
   ],
   "id": "7f2d5249ca58d7c4"
  }
 ],
 "metadata": {
  "kernelspec": {
   "display_name": "Python 3",
   "language": "python",
   "name": "python3"
  },
  "language_info": {
   "codemirror_mode": {
    "name": "ipython",
    "version": 2
   },
   "file_extension": ".py",
   "mimetype": "text/x-python",
   "name": "python",
   "nbconvert_exporter": "python",
   "pygments_lexer": "ipython2",
   "version": "2.7.6"
  }
 },
 "nbformat": 4,
 "nbformat_minor": 5
}
