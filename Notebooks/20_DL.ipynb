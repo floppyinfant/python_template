{
 "cells": [
  {
   "metadata": {},
   "cell_type": "markdown",
   "source": "## DeepLearning",
   "id": "fdc50b7b5bd777f6"
  },
  {
   "metadata": {},
   "cell_type": "markdown",
   "source": [
    "### TensorFlow\n",
    "https://www.tensorflow.org/\n",
    "\n",
    "https://github.com/tensorflow/tensorflow\n"
   ],
   "id": "ec4af7340cf802fd"
  },
  {
   "metadata": {},
   "cell_type": "markdown",
   "source": [
    "### Keras\n",
    "https://keras.io/\n",
    "\n",
    "https://github.com/keras-team/keras\n"
   ],
   "id": "8d52dea5a3ac1c1b"
  },
  {
   "metadata": {},
   "cell_type": "markdown",
   "source": [
    "### PyTorch\n",
    "https://pytorch.org/get-started/locally/\n",
    "\n",
    "https://pytorch.org/get-started/previous-versions/\n",
    "\n",
    "https://github.com/pytorch/pytorch\n",
    "\n",
    "https://github.com/facebookresearch\n"
   ],
   "id": "e5becf6beb3aaba6"
  },
  {
   "metadata": {},
   "cell_type": "markdown",
   "source": [
    "#### Nvidia CUDA-Toolkit\n",
    "https://developer.nvidia.com/cuda-toolkit-archive\n",
    "\n",
    "https://developer.nvidia.com/cuda-12-6-3-download-archive (for GTX 1060 6GB GPU)\n",
    "\n",
    "```bash\n",
    "uv pip install torch torchvision torchaudio --index-url https://download.pytorch.org/whl/cu126\n",
    "```\n",
    "\n",
    "---\n",
    "\n",
    "https://docs.nvidia.com/cuda/\n",
    "\n",
    "https://github.com/NVIDIA\n"
   ],
   "id": "ef026d72d2c6e1bd"
  },
  {
   "metadata": {
    "ExecuteTime": {
     "end_time": "2025-09-10T19:13:35.004396Z",
     "start_time": "2025-09-10T19:13:34.999943Z"
    }
   },
   "cell_type": "code",
   "source": [
    "import torch\n",
    "print(\"CUDA available: \", torch.cuda.is_available())\n",
    "print(\"GPU name:       \", torch.cuda.get_device_name(0))  # sm_61\n",
    "print(\"Torch Version:  \", torch.__version__)\n",
    "print(\"Torch CUDA:     \", torch.version.cuda)\n",
    "print(\"Torch CUDNN:    \", torch.backends.cudnn.version())\n",
    "print(\"Torch Arch List:\", torch.cuda.get_arch_list())"
   ],
   "id": "e0a06b1a52a43f8b",
   "outputs": [
    {
     "name": "stdout",
     "output_type": "stream",
     "text": [
      "CUDA available:  True\n",
      "GPU name:        NVIDIA GeForce GTX 1060 6GB\n",
      "Torch Version:   2.8.0+cu126\n",
      "Torch CUDA:      12.6\n",
      "Torch CUDNN:     91002\n",
      "Torch Arch List: ['sm_61', 'sm_70', 'sm_75', 'sm_80', 'sm_86', 'sm_90']\n"
     ]
    }
   ],
   "execution_count": 12
  },
  {
   "metadata": {
    "ExecuteTime": {
     "end_time": "2025-09-10T19:13:38.114017Z",
     "start_time": "2025-09-10T19:13:38.102816Z"
    }
   },
   "cell_type": "code",
   "source": [
    "import torch\n",
    "\n",
    "# initializing tensors\n",
    "device = \"cuda\" if torch.cuda.is_available() else \"cpu\"\n",
    "t1 = torch.tensor([[1,2,3], [4,5,6]], device=device, requires_grad=True, dtype=torch.float32)\n",
    "t2 = torch.zeros(3, 3, device=device, dtype=torch.float32)\n",
    "# t2 = torch.ones(3, 3, device=device, dtype=torch.float32)\n",
    "# t2 = torch.rand(3, 3, device=device, dtype=torch.float32)\n",
    "# t2 = torch.randn(3, 3, device=device, dtype=torch.float32)\n",
    "# t2 = torch.eye(3, device=device, dtype=torch.float32\n",
    "# t2 = torch.arange(9, device=device, dtype=torch.float32)\n",
    "# t2 = torch.linspace(0, 10, 11, device=device, dtype=torch.float32)\n",
    "\n",
    "# tensor operations\n",
    "t3 = torch.matmul(t1, t2)\n",
    "print(t3)\n",
    "t3.backward(torch.ones_like(t3))\n",
    "print(t1.grad)"
   ],
   "id": "2972dbdf2e998dd5",
   "outputs": [
    {
     "name": "stdout",
     "output_type": "stream",
     "text": [
      "tensor([[0., 0., 0.],\n",
      "        [0., 0., 0.]], device='cuda:0', grad_fn=<MmBackward0>)\n",
      "tensor([[0., 0., 0.],\n",
      "        [0., 0., 0.]], device='cuda:0')\n"
     ]
    }
   ],
   "execution_count": 13
  },
  {
   "metadata": {
    "ExecuteTime": {
     "end_time": "2025-09-10T19:17:08.844429Z",
     "start_time": "2025-09-10T19:17:08.835618Z"
    }
   },
   "cell_type": "code",
   "source": [
    "import numpy as np\n",
    "\n",
    "a1 = np.zeros((3, 3))      # numpy array\n",
    "t1 = torch.from_numpy(a1)  # torch tensor\n",
    "a2 = t1.numpy()            # numpy array\n",
    "\n",
    "print(a2)"
   ],
   "id": "6ef058c72be17929",
   "outputs": [
    {
     "name": "stdout",
     "output_type": "stream",
     "text": [
      "[[0. 0. 0.]\n",
      " [0. 0. 0.]\n",
      " [0. 0. 0.]]\n"
     ]
    }
   ],
   "execution_count": 14
  }
 ],
 "metadata": {
  "kernelspec": {
   "display_name": "Python 3",
   "language": "python",
   "name": "python3"
  },
  "language_info": {
   "codemirror_mode": {
    "name": "ipython",
    "version": 2
   },
   "file_extension": ".py",
   "mimetype": "text/x-python",
   "name": "python",
   "nbconvert_exporter": "python",
   "pygments_lexer": "ipython2",
   "version": "2.7.6"
  }
 },
 "nbformat": 4,
 "nbformat_minor": 5
}
