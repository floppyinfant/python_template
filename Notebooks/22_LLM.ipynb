{
 "cells": [
  {
   "metadata": {},
   "cell_type": "markdown",
   "source": [
    "# AI\n",
    "GenAI\n",
    "- LLM\n",
    "  - self-hosted AI\n",
    "  - RAG\n",
    "  - Agents\n",
    "- Diffusers\n"
   ],
   "id": "4065061b7c5b3a83"
  },
  {
   "metadata": {},
   "cell_type": "markdown",
   "source": [
    "## self-hosted AI\n",
    "run locally\n",
    "OpenWeights, OpenSource\n",
    "\n",
    "### Huggingface_hub\n",
    "https://github.com/huggingface/huggingface_hub\n",
    "\n",
    "### Ollama\n",
    "https://github.com/ollama/ollama-python\n",
    "\n",
    "Models:\n",
    "https://ollama.com/search\n",
    "- Meta AI: Llama 3.2 (1b)\n",
    "- Open AI OSS (20b)\n",
    "- DeepSeek R1\n",
    "- Google Gemma 3\n",
    "- Qwen 3\n",
    "- Mistral (7b)\n"
   ],
   "id": "a9c5cc79f4691631"
  },
  {
   "metadata": {},
   "cell_type": "markdown",
   "source": [
    "## Proprietary AI\n",
    "Benchmarks:\n",
    "\n",
    "https://artificialanalysis.ai/models\n",
    "\n",
    "https://lmarena.ai/leaderboard\n",
    "\n",
    "LLM\n",
    "- OpenAI: ChatGPT, GPT-5, o3, GPT-4.1\n",
    "- Anthropic: Claude 4.1 Opus Thinking, Sonnet 3.7\n",
    "- Google Gemini: Gemini 2.5 Flash (Reasoning), Pro, Flash Image (Nano Banana), Imagen, Veo3\n",
    "- X AI: Grok 4\n",
    "\n",
    "Image Generation, Editing\n",
    "- Flash 2.5 Image (Nano Banana), Imagen, Flux, SD v35, SeeDream, SeeEdit, GPT-Image, Dall-E 3, Qwen-Image\n",
    "\n",
    "Video Generation\n",
    "- Veo3, SeeDance, Kling, Wan\n"
   ],
   "id": "eb9fbd5f23fa4e99"
  },
  {
   "metadata": {},
   "cell_type": "markdown",
   "source": [
    "### OpenAI\n",
    "https://github.com/openai/openai-python\n",
    "\n",
    "https://github.com/openai/openai-cookbook\n"
   ],
   "id": "2297ae49abd7df8c"
  },
  {
   "metadata": {},
   "cell_type": "markdown",
   "source": [
    "### Google Gemini API\n",
    "https://ai.google.dev/\n",
    "\n",
    "https://ai.google.dev/gemini-api/docs\n",
    "\n",
    "***https://github.com/googleapis/python-genai***\n",
    "\n",
    "https://googleapis.github.io/python-genai/\n",
    "\n",
    "https://github.com/google-gemini/cookbook\n",
    "\n",
    "https://developers.google.com/learn/pathways/solution-ai-gemini-getting-started-web\n",
    "\n",
    "https://developer.android.com/ai/gemini/developer-api\n",
    "\n",
    "https://aistudio.google.com/prompts/new_chat\n",
    "\n",
    "https://gemini.google.com/app\n",
    "\n",
    "https://deepmind.google/models/gemini/"
   ],
   "id": "2fa0670c9007a603"
  },
  {
   "metadata": {
    "ExecuteTime": {
     "end_time": "2025-08-31T00:07:42.287936Z",
     "start_time": "2025-08-31T00:07:28.831037Z"
    }
   },
   "cell_type": "code",
   "outputs": [
    {
     "name": "stdout",
     "output_type": "stream",
     "text": [
      "**Machines learn from data to find patterns and make intelligent decisions.**\n"
     ]
    }
   ],
   "execution_count": 14,
   "source": [
    "from google import genai\n",
    "from dotenv import load_dotenv\n",
    "load_dotenv()\n",
    "#client = genai.Client(api_key=os.getenv(\"GEMINI_API_KEY\"))\n",
    "# The client gets the API key from the environment variable GEMINI_API_KEY\n",
    "client = genai.Client()\n",
    "\n",
    "response = client.models.generate_content(\n",
    "    model=\"gemini-2.5-flash\",\n",
    "    contents=\"Explain how AI works in a few words\",\n",
    ")\n",
    "\n",
    "print(response.text)"
   ],
   "id": "32bba94008045f0b"
  }
 ],
 "metadata": {
  "kernelspec": {
   "display_name": "Python 3",
   "language": "python",
   "name": "python3"
  },
  "language_info": {
   "codemirror_mode": {
    "name": "ipython",
    "version": 2
   },
   "file_extension": ".py",
   "mimetype": "text/x-python",
   "name": "python",
   "nbconvert_exporter": "python",
   "pygments_lexer": "ipython2",
   "version": "2.7.6"
  }
 },
 "nbformat": 4,
 "nbformat_minor": 5
}
