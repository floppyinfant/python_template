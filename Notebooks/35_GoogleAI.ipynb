{
 "cells": [
  {
   "metadata": {},
   "cell_type": "markdown",
   "source": [
    "## Google AI\n",
    "https://ai.google.dev/\n",
    "\n",
    "https://deepmind.google/models/gemini/\n",
    "\n",
    "### Gemini Chat\n",
    "https://gemini.google.com/app\n",
    "\n",
    "### Google AI Studio\n",
    "https://aistudio.google.com/prompts/new_chat\n",
    "\n",
    "---\n",
    "\n",
    "### Gemini Code Assist\n",
    "https://developers.google.com/gemini-code-assist/docs/overview?hl=de\n",
    "\n",
    "```\n",
    ".gemini/GEMINI.md\n",
    "```\n",
    "\n",
    "### Gemini CLI\n",
    "https://github.com/google-gemini/gemini-cli\n",
    "\n",
    "https://google-gemini.github.io/gemini-cli/\n",
    "\n",
    "#### MCP-Server Integration\n",
    "https://github.com/google-gemini/gemini-cli/blob/main/docs/tools/mcp-server.md\n",
    "\n",
    "```\n",
    ".gemini/settings.json\n",
    "```\n",
    "```\n",
    "{\n",
    "\t\"mcpServers\": {\n",
    "\t\t\"blenderMCP\": {\n",
    "\t\t\t\"command\": \"uvx\",\n",
    "\t\t\t\"args\": [\n",
    "\t\t\t\t\"blender-mcp\"\n",
    "\t\t\t]\n",
    "\t\t},\n",
    "\t}\n",
    "}\n",
    "```\n",
    "\n",
    "---\n",
    "\n",
    "### Gemini API\n",
    "https://ai.google.dev/gemini-api/docs\n",
    "\n",
    "https://github.com/google-gemini/cookbook\n",
    "\n",
    "https://developers.google.com/learn/pathways/solution-ai-gemini-getting-started-web\n",
    "\n",
    "#### Google Gen AI SDK\n",
    "https://github.com/googleapis/python-genai\n",
    "\n",
    "https://googleapis.github.io/python-genai/\n",
    "\n",
    "```bash\n",
    "uv pip install google-genai\n",
    "```\n",
    "\n",
    "#### Android\n",
    "https://developer.android.com/ai/gemini/developer-api\n",
    "\n",
    "---\n",
    "\n",
    "### Gemma\n",
    "https://ai.google.dev/gemma/docs?hl=de\n",
    "\n",
    "https://huggingface.co/google\n",
    "\n",
    "#### EmbeddingGemma\n",
    "https://ai.google.dev/gemma/docs/embeddinggemma?hl=de\n",
    "\n",
    "#### Google Cloud\n",
    "https://cloud.google.com/vertex-ai/generative-ai/docs?hl=de\n"
   ],
   "id": "2fa0670c9007a603"
  },
  {
   "metadata": {
    "ExecuteTime": {
     "end_time": "2025-08-31T00:07:42.287936Z",
     "start_time": "2025-08-31T00:07:28.831037Z"
    }
   },
   "cell_type": "code",
   "outputs": [
    {
     "name": "stdout",
     "output_type": "stream",
     "text": [
      "**Machines learn from data to find patterns and make intelligent decisions.**\n"
     ]
    }
   ],
   "execution_count": 14,
   "source": [
    "from google import genai\n",
    "from dotenv import load_dotenv\n",
    "load_dotenv()\n",
    "#client = genai.Client(api_key=os.getenv(\"GEMINI_API_KEY\"))\n",
    "# The client gets the API key from the environment variable GEMINI_API_KEY\n",
    "client = genai.Client()\n",
    "\n",
    "response = client.models.generate_content(\n",
    "    model=\"gemini-2.5-flash\",\n",
    "    contents=\"Explain how AI works in a few words\",\n",
    ")\n",
    "\n",
    "print(response.text)"
   ],
   "id": "32bba94008045f0b"
  }
 ],
 "metadata": {
  "kernelspec": {
   "display_name": "Python 3",
   "language": "python",
   "name": "python3"
  },
  "language_info": {
   "codemirror_mode": {
    "name": "ipython",
    "version": 2
   },
   "file_extension": ".py",
   "mimetype": "text/x-python",
   "name": "python",
   "nbconvert_exporter": "python",
   "pygments_lexer": "ipython2",
   "version": "2.7.6"
  }
 },
 "nbformat": 4,
 "nbformat_minor": 5
}
