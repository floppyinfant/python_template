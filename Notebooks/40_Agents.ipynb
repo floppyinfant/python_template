{
 "cells": [
  {
   "metadata": {},
   "cell_type": "markdown",
   "source": [
    "# AI\n",
    "GenAI\n",
    "- LLM\n",
    "  - self-hosted AI\n",
    "  - RAG\n",
    "  - Agents\n",
    "- Diffusers\n"
   ],
   "id": "4065061b7c5b3a83"
  },
  {
   "metadata": {},
   "cell_type": "markdown",
   "source": [
    "## MCP\n",
    "https://mcp.so/\n",
    "\n",
    "https://modelcontextprotocol.io/docs/getting-started/intro\n",
    "\n",
    "https://github.com/modelcontextprotocol/servers\n",
    "\n",
    "https://github.com/modelcontextprotocol/python-sdk"
   ],
   "id": "25e8dec401171730"
  },
  {
   "metadata": {},
   "cell_type": "markdown",
   "source": [
    "### LangChain\n",
    "https://python.langchain.com/docs/introduction/\n",
    "\n",
    "https://github.com/langchain-ai\n"
   ],
   "id": "fde478bc38fe8762"
  },
  {
   "metadata": {
    "ExecuteTime": {
     "end_time": "2025-08-31T00:41:55.137300Z",
     "start_time": "2025-08-31T00:41:43.911820Z"
    }
   },
   "cell_type": "code",
   "source": [
    "from langchain.chat_models import init_chat_model\n",
    "import os\n",
    "import dotenv\n",
    "dotenv.load_dotenv()\n",
    "#api_key = os.getenv(\"GOOGLE_API_KEY\")\n",
    "\n",
    "model = init_chat_model(\"gemini-2.5-flash\", model_provider=\"google_genai\")\n",
    "model.invoke(\"Why is the Sky blue?\")"
   ],
   "id": "135119ff201cd4d7",
   "outputs": [
    {
     "data": {
      "text/plain": [
       "AIMessage(content='The sky is blue because of a phenomenon called **Rayleigh scattering**. Here\\'s a breakdown of why:\\n\\n1.  **Sunlight is White Light:** The light from the sun appears white to us, but it\\'s actually made up of all the colors of the rainbow (red, orange, yellow, green, blue, indigo, violet). Each of these colors has a different **wavelength**. Blue and violet light have shorter, smaller wavelengths, while red and orange light have longer, larger wavelengths.\\n\\n2.  **Earth\\'s Atmosphere:** Our planet is surrounded by an atmosphere composed of tiny gas molecules, primarily nitrogen (about 78%) and oxygen (about 21%). These molecules are much smaller than the wavelengths of visible light.\\n\\n3.  **The Scattering Effect:** When sunlight enters the atmosphere, it bumps into these tiny gas molecules. This causes the light to scatter in all directions.\\n\\n4.  **Why Blue is Scattered More:** Rayleigh scattering states that light with shorter wavelengths (like blue and violet) is scattered much more efficiently by tiny particles (like our atmospheric gas molecules) than light with longer wavelengths (like red and orange).\\n    *   Think of it like this: the small blue waves get \"caught\" and redirected by the tiny molecules much more easily than the long red waves, which tend to pass through relatively undisturbed.\\n\\n5.  **What We See:**\\n    *   When you look up at the sky, you\\'re seeing all this scattered blue and violet light coming from every direction above you.\\n    *   Even though violet light is scattered slightly more than blue, our eyes are more sensitive to blue light, and there\\'s also more blue light in the sun\\'s spectrum to begin with. So, the sky appears predominantly blue.\\n    *   The other colors (green, yellow, orange, red) travel more directly through the atmosphere to our eyes. This is why the sun itself appears yellowish-white when it\\'s high in the sky – the blue light has been scattered away, leaving a slightly yellowed mix.\\n\\n**What about Sunrises and Sunsets?**\\n\\nWhen the sun is low on the horizon (at sunrise or sunset), its light has to travel through **much more** of the atmosphere to reach your eyes. This means even *more* of the blue and violet light gets scattered away, often out of your line of sight. What\\'s left are the longer wavelength colors – reds, oranges, and yellows – which can penetrate the atmosphere more directly, creating those beautiful, warm hues.\\n\\nIn short: **The sky is blue because the tiny molecules in Earth\\'s atmosphere scatter blue light more efficiently than other colors, spreading it across the sky for us to see.**', additional_kwargs={}, response_metadata={'prompt_feedback': {'block_reason': 0, 'safety_ratings': []}, 'finish_reason': 'STOP', 'model_name': 'gemini-2.5-flash', 'safety_ratings': []}, id='run--ee6f6ebe-5c0a-48b6-89ab-47f300e3f28a-0', usage_metadata={'input_tokens': 7, 'output_tokens': 1734, 'total_tokens': 1741, 'input_token_details': {'cache_read': 0}, 'output_token_details': {'reasoning': 1168}})"
      ]
     },
     "execution_count": 22,
     "metadata": {},
     "output_type": "execute_result"
    }
   ],
   "execution_count": 22
  }
 ],
 "metadata": {
  "kernelspec": {
   "display_name": "Python 3",
   "language": "python",
   "name": "python3"
  },
  "language_info": {
   "codemirror_mode": {
    "name": "ipython",
    "version": 2
   },
   "file_extension": ".py",
   "mimetype": "text/x-python",
   "name": "python",
   "nbconvert_exporter": "python",
   "pygments_lexer": "ipython2",
   "version": "2.7.6"
  }
 },
 "nbformat": 4,
 "nbformat_minor": 5
}
