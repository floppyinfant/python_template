{
 "cells": [
  {
   "metadata": {},
   "cell_type": "markdown",
   "source": [
    "# AI\n",
    "GenAI\n",
    "- LLM\n",
    "  - self-hosted AI\n",
    "  - RAG\n",
    "  - Agents\n",
    "- Diffusers\n"
   ],
   "id": "4065061b7c5b3a83"
  },
  {
   "metadata": {},
   "cell_type": "markdown",
   "source": [
    "# Diffusers\n",
    "## Stable Diffusion\n",
    "## Flux\n",
    "\n",
    "## HuggingFace\n",
    "https://huggingface.co/\n",
    "\n",
    "https://huggingface.co/spaces\n",
    "\n",
    "https://huggingface.co/spaces?category=image-generation\n",
    "\n",
    "## CivitAI\n",
    "https://civitai.com/\n",
    "\n",
    "https://education.civitai.com/\n",
    "\n",
    "- LoRAs\n",
    "- VAE\n",
    "- ?\n",
    "\n",
    "## UI\n",
    "https://gist.github.com/AshtakaOOf/d4ee3cc4510dfa1385616eacfcd01652\n",
    "\n",
    "https://github.com/AUTOMATIC1111/stable-diffusion-webui\n",
    "\n",
    "https://github.com/lllyasviel/stable-diffusion-webui-forge\n",
    "\n",
    "https://github.com/lllyasviel/stable-diffusion-webui-forge/discussions/981\n",
    "\n",
    "## ComfyUI\n",
    "https://www.comfy.org/\n",
    "\n",
    "https://docs.comfy.org/\n",
    "\n",
    "https://github.com/comfyanonymous/ComfyUI\n",
    "\n",
    "https://comfyanonymous.github.io/ComfyUI_examples/\n",
    "\n",
    "https://www.runcomfy.com/de\n",
    "\n",
    "### Extensions\n",
    "https://github.com/Comfy-Org/ComfyUI-Manager\n",
    "\n",
    "https://github.com/crystian/ComfyUI-Crystools\n",
    "\n",
    "### Example Workflows\n",
    "https://openart.ai/workflows/home\n",
    "\n",
    "https://openart.ai/workflows/academy\n",
    "\n",
    "https://huggingface.co/spaces/gokaygokay/FLUX-Prompt-Generator\n",
    "\n"
   ],
   "id": "452da4c58c290b6b"
  }
 ],
 "metadata": {
  "kernelspec": {
   "display_name": "Python 3",
   "language": "python",
   "name": "python3"
  },
  "language_info": {
   "codemirror_mode": {
    "name": "ipython",
    "version": 2
   },
   "file_extension": ".py",
   "mimetype": "text/x-python",
   "name": "python",
   "nbconvert_exporter": "python",
   "pygments_lexer": "ipython2",
   "version": "2.7.6"
  }
 },
 "nbformat": 4,
 "nbformat_minor": 5
}
