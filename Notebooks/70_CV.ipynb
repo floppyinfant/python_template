{
 "cells": [
  {
   "metadata": {},
   "cell_type": "markdown",
   "source": [
    "## Computer Vision (CV)\n",
    "\n",
    "### OpenCV\n",
    "https://opencv.org/\n",
    "\n",
    "https://docs.opencv.org/4.x/\n",
    "\n",
    "https://github.com/opencv/opencv\n",
    "\n",
    "### SimpleCV\n",
    "https://simplecv.org/\n",
    "\n",
    "### scikit-image (skimage)\n",
    "https://scikit-image.org/\n",
    "\n",
    "https://github.com/scikit-image/scikit-image\n",
    "\n",
    "### torchvision (PyTorch)\n",
    "https://docs.pytorch.org/vision/stable/index.html\n",
    "\n",
    "### TensorFlow CV\n",
    "https://www.tensorflow.org/tutorials/images\n",
    "\n",
    "### YOLO\n",
    "https://pjreddie.com/darknet/yolo/\n",
    "\n",
    "https://datascientest.com/de/you-only-look-once-yolo-was-ist-das\n",
    "\n",
    "https://en.wikipedia.org/wiki/You_Only_Look_Once\n",
    "\n",
    "### CV with AI\n",
    "https://colab.research.google.com/github/google-gemini/cookbook/blob/main/examples/Spatial_understanding_3d.ipynb\n"
   ],
   "id": "e63afb897864e1c3"
  }
 ],
 "metadata": {
  "kernelspec": {
   "display_name": "Python 3",
   "language": "python",
   "name": "python3"
  },
  "language_info": {
   "codemirror_mode": {
    "name": "ipython",
    "version": 2
   },
   "file_extension": ".py",
   "mimetype": "text/x-python",
   "name": "python",
   "nbconvert_exporter": "python",
   "pygments_lexer": "ipython2",
   "version": "2.7.6"
  }
 },
 "nbformat": 4,
 "nbformat_minor": 5
}
