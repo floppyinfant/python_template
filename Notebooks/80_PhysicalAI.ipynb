{
 "cells": [
  {
   "metadata": {},
   "cell_type": "markdown",
   "source": [
    "## Physics-Simulation for Robotics\n",
    "https://github.com/NVIDIA-Omniverse/PhysX\n",
    "\n",
    "https://github.com/Genesis-Embodied-AI/Genesis\n"
   ],
   "id": "e015d88345d3955c"
  }
 ],
 "metadata": {
  "kernelspec": {
   "display_name": "Python 3",
   "language": "python",
   "name": "python3"
  },
  "language_info": {
   "codemirror_mode": {
    "name": "ipython",
    "version": 2
   },
   "file_extension": ".py",
   "mimetype": "text/x-python",
   "name": "python",
   "nbconvert_exporter": "python",
   "pygments_lexer": "ipython2",
   "version": "2.7.6"
  }
 },
 "nbformat": 4,
 "nbformat_minor": 5
}
