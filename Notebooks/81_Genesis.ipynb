{
 "cells": [
  {
   "metadata": {},
   "cell_type": "markdown",
   "source": [
    "# Genesis for Embodies AI, Physical AI, Robotics\n",
    "https://genesis-world.readthedocs.io/en/latest/user_guide/index.html\n",
    "\n",
    "https://genesis-world.readthedocs.io/en/latest/api_reference/index.html\n",
    "\n",
    "https://github.com/Genesis-Embodied-AI/Genesis/\n",
    "\n",
    "https://github.com/Genesis-Embodied-AI/Genesis/tree/main/examples\n",
    "\n",
    "Physics Engine, Robotics Simulation Platform, Generative Agentic AI Framework, Rendering System\n",
    "\n",
    "```bash\n",
    "pip install genesis-world\n",
    "```"
   ],
   "id": "e536b1353932b4b7"
  },
  {
   "cell_type": "code",
   "id": "initial_id",
   "metadata": {
    "collapsed": true,
    "ExecuteTime": {
     "end_time": "2025-10-05T20:14:19.928539Z",
     "start_time": "2025-10-05T20:14:19.782718Z"
    }
   },
   "source": [
    "import numpy as np\n",
    "import genesis as gs\n",
    "\n",
    "########################## init ##########################\n",
    "\n",
    "gs.init(backend=gs.gpu)\n",
    "\n",
    "scene = gs.Scene(\n",
    "    viewer_options = gs.options.ViewerOptions(\n",
    "        camera_pos      = (0, 0, 10),\n",
    "        camera_lookat   = (0, 0, 0),\n",
    "        camera_fov      = 30,\n",
    "        res             = (1920, 1080),\n",
    "        max_FPS         = 60,\n",
    "    ),\n",
    "    sim_options = gs.options.SimOptions(\n",
    "        dt = 0.01,\n",
    "    ),\n",
    "    show_viewer = True,\n",
    ")\n",
    "\n",
    "########################## entities ######################\n",
    "\n",
    "plane = scene.add_entity(\n",
    "    gs.morphs.Plane()\n",
    ")\n",
    "\n",
    "########################## cameras #######################\n",
    "\n",
    "cam_0 = scene.add_camera(\n",
    "    res = (1600, 900),\n",
    "    pos = (8.5, 0.0, 1.5),\n",
    "    lookat = (3.0, 0.0, 0.7),\n",
    "    fov = 60,\n",
    "    GUI = True,\n",
    "    spp = 512,\n",
    ")\n",
    "\n",
    "scene.build()\n",
    "# scene.reset()\n",
    "\n",
    "for i in range(10000):\n",
    "    scene.step()\n",
    "    cam_0.render()\n"
   ],
   "outputs": [
    {
     "ename": "UnsupportedOperation",
     "evalue": "fileno",
     "output_type": "error",
     "traceback": [
      "\u001B[31m---------------------------------------------------------------------------\u001B[39m",
      "\u001B[31mUnsupportedOperation\u001B[39m                      Traceback (most recent call last)",
      "\u001B[36mCell\u001B[39m\u001B[36m \u001B[39m\u001B[32mIn[2]\u001B[39m\u001B[32m, line 2\u001B[39m\n\u001B[32m      1\u001B[39m \u001B[38;5;28;01mimport\u001B[39;00m\u001B[38;5;250m \u001B[39m\u001B[34;01mnumpy\u001B[39;00m\u001B[38;5;250m \u001B[39m\u001B[38;5;28;01mas\u001B[39;00m\u001B[38;5;250m \u001B[39m\u001B[34;01mnp\u001B[39;00m\n\u001B[32m----> \u001B[39m\u001B[32m2\u001B[39m \u001B[38;5;28;01mimport\u001B[39;00m\u001B[38;5;250m \u001B[39m\u001B[34;01mgenesis\u001B[39;00m\u001B[38;5;250m \u001B[39m\u001B[38;5;28;01mas\u001B[39;00m\u001B[38;5;250m \u001B[39m\u001B[34;01mgs\u001B[39;00m\n\u001B[32m      4\u001B[39m \u001B[38;5;66;03m########################## init ##########################\u001B[39;00m\n\u001B[32m      6\u001B[39m gs.init(backend=gs.gpu)\n",
      "\u001B[36mFile \u001B[39m\u001B[32mL:\\WORKSPACES\\PYTHON_WS\\python_template\\examples\\Genesis\\genesis\\__init__.py:378\u001B[39m\n\u001B[32m    375\u001B[39m \u001B[38;5;28;01mfrom\u001B[39;00m\u001B[38;5;250m \u001B[39m\u001B[34;01m.\u001B[39;00m\u001B[34;01mext\u001B[39;00m\u001B[38;5;250m \u001B[39m\u001B[38;5;28;01mimport\u001B[39;00m _trimesh_patch\n\u001B[32m    376\u001B[39m \u001B[38;5;28;01mfrom\u001B[39;00m\u001B[38;5;250m \u001B[39m\u001B[34;01m.\u001B[39;00m\u001B[34;01mutils\u001B[39;00m\u001B[34;01m.\u001B[39;00m\u001B[34;01mmisc\u001B[39;00m\u001B[38;5;250m \u001B[39m\u001B[38;5;28;01mimport\u001B[39;00m get_src_dir \u001B[38;5;28;01mas\u001B[39;00m _get_src_dir\n\u001B[32m--> \u001B[39m\u001B[32m378\u001B[39m \u001B[38;5;28;43;01mwith\u001B[39;49;00m\u001B[43m \u001B[49m\u001B[38;5;28;43mopen\u001B[39;49m\u001B[43m(\u001B[49m\u001B[43mos\u001B[49m\u001B[43m.\u001B[49m\u001B[43mdevnull\u001B[49m\u001B[43m,\u001B[49m\u001B[43m \u001B[49m\u001B[33;43m\"\u001B[39;49m\u001B[33;43mw\u001B[39;49m\u001B[33;43m\"\u001B[39;49m\u001B[43m)\u001B[49m\u001B[43m \u001B[49m\u001B[38;5;28;43;01mas\u001B[39;49;00m\u001B[43m \u001B[49m\u001B[43mstderr\u001B[49m\u001B[43m,\u001B[49m\u001B[43m \u001B[49m\u001B[43mredirect_libc_stderr\u001B[49m\u001B[43m(\u001B[49m\u001B[43mstderr\u001B[49m\u001B[43m)\u001B[49m\u001B[43m:\u001B[49m\n\u001B[32m    379\u001B[39m \u001B[43m    \u001B[49m\u001B[38;5;28;43;01mtry\u001B[39;49;00m\u001B[43m:\u001B[49m\n\u001B[32m    380\u001B[39m \u001B[43m        \u001B[49m\u001B[43msys\u001B[49m\u001B[43m.\u001B[49m\u001B[43mpath\u001B[49m\u001B[43m.\u001B[49m\u001B[43mappend\u001B[49m\u001B[43m(\u001B[49m\u001B[43mos\u001B[49m\u001B[43m.\u001B[49m\u001B[43mpath\u001B[49m\u001B[43m.\u001B[49m\u001B[43mjoin\u001B[49m\u001B[43m(\u001B[49m\u001B[43m_get_src_dir\u001B[49m\u001B[43m(\u001B[49m\u001B[43m)\u001B[49m\u001B[43m,\u001B[49m\u001B[43m \u001B[49m\u001B[33;43m\"\u001B[39;49m\u001B[33;43mext/LuisaRender/build/bin\u001B[39;49m\u001B[33;43m\"\u001B[39;49m\u001B[43m)\u001B[49m\u001B[43m)\u001B[49m\n",
      "\u001B[36mFile \u001B[39m\u001B[32mL:\\WORKSPACES\\PYTHON_WS\\python_template\\examples\\Genesis\\genesis\\utils\\misc.py:66\u001B[39m, in \u001B[36mredirect_libc_stderr.__enter__\u001B[39m\u001B[34m(self)\u001B[39m\n\u001B[32m     65\u001B[39m \u001B[38;5;28;01mdef\u001B[39;00m\u001B[38;5;250m \u001B[39m\u001B[34m__enter__\u001B[39m(\u001B[38;5;28mself\u001B[39m):\n\u001B[32m---> \u001B[39m\u001B[32m66\u001B[39m     \u001B[38;5;28mself\u001B[39m.stderr_fileno = \u001B[43msys\u001B[49m\u001B[43m.\u001B[49m\u001B[43mstderr\u001B[49m\u001B[43m.\u001B[49m\u001B[43mfileno\u001B[49m\u001B[43m(\u001B[49m\u001B[43m)\u001B[49m\n\u001B[32m     67\u001B[39m     \u001B[38;5;28mself\u001B[39m.original_stderr_fileno = os.dup(\u001B[38;5;28mself\u001B[39m.stderr_fileno)\n\u001B[32m     68\u001B[39m     sys.stderr.flush()\n",
      "\u001B[36mFile \u001B[39m\u001B[32mL:\\WORKSPACES\\PYTHON_WS\\python_template\\.venv\\Lib\\site-packages\\ipykernel\\iostream.py:371\u001B[39m, in \u001B[36mOutStream.fileno\u001B[39m\u001B[34m(self)\u001B[39m\n\u001B[32m    369\u001B[39m     \u001B[38;5;28;01mreturn\u001B[39;00m \u001B[38;5;28mself\u001B[39m._original_stdstream_copy\n\u001B[32m    370\u001B[39m msg = \u001B[33m\"\u001B[39m\u001B[33mfileno\u001B[39m\u001B[33m\"\u001B[39m\n\u001B[32m--> \u001B[39m\u001B[32m371\u001B[39m \u001B[38;5;28;01mraise\u001B[39;00m io.UnsupportedOperation(msg)\n",
      "\u001B[31mUnsupportedOperation\u001B[39m: fileno"
     ]
    }
   ],
   "execution_count": 2
  },
  {
   "metadata": {},
   "cell_type": "code",
   "outputs": [],
   "execution_count": null,
   "source": "",
   "id": "c347305c4cb77f5b"
  }
 ],
 "metadata": {
  "kernelspec": {
   "display_name": "Python 3",
   "language": "python",
   "name": "python3"
  },
  "language_info": {
   "codemirror_mode": {
    "name": "ipython",
    "version": 2
   },
   "file_extension": ".py",
   "mimetype": "text/x-python",
   "name": "python",
   "nbconvert_exporter": "python",
   "pygments_lexer": "ipython2",
   "version": "2.7.6"
  }
 },
 "nbformat": 4,
 "nbformat_minor": 5
}
