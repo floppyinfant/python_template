{
 "cells": [
  {
   "metadata": {},
   "cell_type": "markdown",
   "source": [
    "# Creative Coding\n",
    "\n",
    "interactive Art, VJ (Music Live-Visuals), Amiga Demoscene, ASCII-Art, Pixel-Art, Glitch-Art, Live Coding, Shader Programming\n",
    "\n",
    "https://en.wikipedia.org/wiki/Creative_coding\n",
    "\n",
    "https://en.wikipedia.org/wiki/Generative_art\n",
    "\n",
    "https://en.wikipedia.org/wiki/Computer_art\n",
    "\n",
    "popular libraries / frameworks:\n",
    "- openFrameworks (C++) https://openframeworks.cc/\n",
    "- Processing: Python Mode, Java Mode, p5.js (WebGL) https://p5js.org/\n",
    "- Jitter (Max/MSP), Pure Data GEM (pd)\n",
    "- Live Coding: Sonic-Pi, SuperCollider\n",
    "- ShaderToy https://www.shadertoy.com/\n",
    "- Three.js https://threejs.org/\n",
    "- vvvv\n",
    "- ...\n",
    "- Motion Graphics: Blender, Unreal Engine Motion Design, DaVinci Resolve Fusion\n"
   ],
   "id": "874f8d346d6c797a"
  },
  {
   "metadata": {},
   "cell_type": "markdown",
   "source": [
    "## Py5\n",
    "\n",
    "based on Processing (needs Java >= 17)\n",
    "\n",
    "https://github.com/py5coding/py5\n",
    "\n",
    "https://shapely.readthedocs.io/en/stable/ (2D)\n",
    "\n",
    "https://trimesh.org/ (3D)\n",
    "\n",
    "Installation:\n",
    "\n",
    "https://py5coding.org/content/install.html\n",
    "\n",
    "pip install py5[extras]"
   ],
   "id": "a854d867b987214"
  },
  {
   "cell_type": "code",
   "id": "initial_id",
   "metadata": {
    "collapsed": true,
    "ExecuteTime": {
     "end_time": "2025-10-05T13:54:43.734455Z",
     "start_time": "2025-10-05T13:54:37.824012Z"
    }
   },
   "source": [
    "import py5\n",
    "\n",
    "def setup():\n",
    "    py5.size(400, 400)\n",
    "    py5.rect_mode(py5.CENTER)\n",
    "\n",
    "\n",
    "def draw():\n",
    "    py5.square(py5.mouse_x, py5.mouse_y, 10)\n",
    "\n",
    "\n",
    "def mouse_clicked():\n",
    "    py5.fill(py5.random_int(255), py5.random_int(255), py5.random_int(255))\n",
    "\n",
    "\n",
    "py5.run_sketch()"
   ],
   "outputs": [
    {
     "name": "stderr",
     "output_type": "stream",
     "text": [
      "L:\\WORKSPACES\\PYTHON_WS\\python_template\\.venv\\Lib\\site-packages\\py5_tools\\magics\\util.py:52: SyntaxWarning: invalid escape sequence '\\w'\n",
      "  return re.match(\"^[a-zA-Z_]\\w*\" + chr(36), varname)\n"
     ]
    }
   ],
   "execution_count": 1
  }
 ],
 "metadata": {
  "kernelspec": {
   "display_name": "Python 3",
   "language": "python",
   "name": "python3"
  },
  "language_info": {
   "codemirror_mode": {
    "name": "ipython",
    "version": 2
   },
   "file_extension": ".py",
   "mimetype": "text/x-python",
   "name": "python",
   "nbconvert_exporter": "python",
   "pygments_lexer": "ipython2",
   "version": "2.7.6"
  }
 },
 "nbformat": 4,
 "nbformat_minor": 5
}
