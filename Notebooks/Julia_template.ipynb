{
 "cells": [
  {
   "metadata": {},
   "cell_type": "markdown",
   "source": [
    "# Julia\n",
    "https://julialang.org/\n",
    "\n",
    "https://github.com/JuliaLang/julia\n",
    "\n",
    "https://code.visualstudio.com/docs/languages/julia\n",
    "\n",
    "Notes:\n",
    "- JIT-Compiler\n",
    "\n",
    "Tutorials:\n",
    "\n",
    "https://julialang.org/learning/\n",
    "\n",
    "https://youtube.com/playlist?list=PLOkN509bK6cHGUm-zEBrFS9sz5pxVKhLi\n",
    "(A. Dominik Vorlesung 4: Implementierung eines Gatters)\n",
    "\n",
    "https://en.wikipedia.org/wiki/Julia_(programming_language)\n",
    "\n",
    "https://www.freecodecamp.org/news/learn-julia-programming-language/\n",
    "\n",
    "https://www.coursera.org/de-DE/articles/julia-programming-language\n",
    "\n",
    "https://www.geeksforgeeks.org/julia/julia-language-introduction/\n",
    "\n",
    "https://www.datacamp.com/blog/what-is-julia-used-for\n"
   ],
   "id": "b6a4fe56fd3df188"
  },
  {
   "cell_type": "code",
   "execution_count": null,
   "id": "initial_id",
   "metadata": {
    "collapsed": true
   },
   "outputs": [],
   "source": [
    ""
   ]
  }
 ],
 "metadata": {
  "kernelspec": {
   "display_name": "Python 3",
   "language": "python",
   "name": "python3"
  },
  "language_info": {
   "codemirror_mode": {
    "name": "ipython",
    "version": 2
   },
   "file_extension": ".py",
   "mimetype": "text/x-python",
   "name": "python",
   "nbconvert_exporter": "python",
   "pygments_lexer": "ipython2",
   "version": "2.7.6"
  }
 },
 "nbformat": 4,
 "nbformat_minor": 5
}
