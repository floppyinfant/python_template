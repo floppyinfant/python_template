{
 "cells": [
  {
   "metadata": {},
   "cell_type": "markdown",
   "source": [
    "# R Language\n",
    "\n",
    "- Indices begin at 1 (not 0)\n",
    "- The dot \".\" in names is just a character without a special meaning (No OOP member-selection)."
   ],
   "id": "4cc9c10bcc2cb8fe"
  },
  {
   "metadata": {},
   "cell_type": "code",
   "outputs": [],
   "execution_count": null,
   "source": [
    "install.packages(\"tidyverse\")\n",
    "library(tidyr)\n",
    "library(dplyr)\n",
    "\n",
    "getwd()\n",
    "setwd()\n",
    "\n",
    "a <- c(1,3,5)\n",
    "df <- data.frame(x = 1:3, y = 2:4)\n",
    "# second column\n",
    "df[,2]\n",
    "df$y"
   ],
   "id": "88e08fe116a2d0f4"
  },
  {
   "metadata": {},
   "cell_type": "code",
   "outputs": [],
   "execution_count": null,
   "source": [
    "library(data.table)\n",
    "DT <- data.table(v1 = c(1,2,3), v2 = c(\"a\", \"b\", \"c\"))"
   ],
   "id": "465f212e99398e49"
  },
  {
   "metadata": {},
   "cell_type": "code",
   "outputs": [],
   "execution_count": null,
   "source": "ggplot()",
   "id": "74712ba2bf9ca5c8"
  }
 ],
 "metadata": {
  "kernelspec": {
   "display_name": "Python 3",
   "language": "python",
   "name": "python3"
  },
  "language_info": {
   "codemirror_mode": {
    "name": "ipython",
    "version": 2
   },
   "file_extension": ".py",
   "mimetype": "text/x-python",
   "name": "python",
   "nbconvert_exporter": "python",
   "pygments_lexer": "ipython2",
   "version": "2.7.6"
  }
 },
 "nbformat": 4,
 "nbformat_minor": 5
}
